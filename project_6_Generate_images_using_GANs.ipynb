{
  "nbformat": 4,
  "nbformat_minor": 0,
  "metadata": {
    "colab": {
      "provenance": [],
      "gpuType": "T4"
    },
    "kernelspec": {
      "name": "python3",
      "display_name": "Python 3"
    },
    "language_info": {
      "name": "python"
    },
    "accelerator": "GPU"
  },
  "cells": [
    {
      "cell_type": "markdown",
      "source": [
        "# Project 6: Generate Fashion images using GANs\n",
        "# Author: Aqib Aziz\n",
        "## Install dependencies and data"
      ],
      "metadata": {
        "id": "ZboTmAzSFaAB"
      }
    },
    {
      "cell_type": "markdown",
      "source": [
        "## Part 1: Generating Images using my Custom GAN (Trained for only 200 epochs just for the purpose of completing the task. Recommended epochs are 2000 or more but it is very time consuming)"
      ],
      "metadata": {
        "id": "Cn4Gl8hTo2VY"
      }
    },
    {
      "cell_type": "code",
      "source": [
        "!pip install tensorflow matplotlib tensorflow-datasets ipywidgets"
      ],
      "metadata": {
        "colab": {
          "base_uri": "https://localhost:8080/"
        },
        "id": "eTxqOxxYF9dz",
        "outputId": "06484dd0-b388-49db-987f-31b5ef377872"
      },
      "execution_count": 3,
      "outputs": [
        {
          "output_type": "stream",
          "name": "stdout",
          "text": [
            "Requirement already satisfied: tensorflow in /usr/local/lib/python3.10/dist-packages (2.12.0)\n",
            "Requirement already satisfied: matplotlib in /usr/local/lib/python3.10/dist-packages (3.7.1)\n",
            "Requirement already satisfied: tensorflow-datasets in /usr/local/lib/python3.10/dist-packages (4.9.2)\n",
            "Requirement already satisfied: ipywidgets in /usr/local/lib/python3.10/dist-packages (7.7.1)\n",
            "Requirement already satisfied: absl-py>=1.0.0 in /usr/local/lib/python3.10/dist-packages (from tensorflow) (1.4.0)\n",
            "Requirement already satisfied: astunparse>=1.6.0 in /usr/local/lib/python3.10/dist-packages (from tensorflow) (1.6.3)\n",
            "Requirement already satisfied: flatbuffers>=2.0 in /usr/local/lib/python3.10/dist-packages (from tensorflow) (23.5.26)\n",
            "Requirement already satisfied: gast<=0.4.0,>=0.2.1 in /usr/local/lib/python3.10/dist-packages (from tensorflow) (0.4.0)\n",
            "Requirement already satisfied: google-pasta>=0.1.1 in /usr/local/lib/python3.10/dist-packages (from tensorflow) (0.2.0)\n",
            "Requirement already satisfied: grpcio<2.0,>=1.24.3 in /usr/local/lib/python3.10/dist-packages (from tensorflow) (1.57.0)\n",
            "Requirement already satisfied: h5py>=2.9.0 in /usr/local/lib/python3.10/dist-packages (from tensorflow) (3.9.0)\n",
            "Requirement already satisfied: jax>=0.3.15 in /usr/local/lib/python3.10/dist-packages (from tensorflow) (0.4.14)\n",
            "Requirement already satisfied: keras<2.13,>=2.12.0 in /usr/local/lib/python3.10/dist-packages (from tensorflow) (2.12.0)\n",
            "Requirement already satisfied: libclang>=13.0.0 in /usr/local/lib/python3.10/dist-packages (from tensorflow) (16.0.6)\n",
            "Requirement already satisfied: numpy<1.24,>=1.22 in /usr/local/lib/python3.10/dist-packages (from tensorflow) (1.23.5)\n",
            "Requirement already satisfied: opt-einsum>=2.3.2 in /usr/local/lib/python3.10/dist-packages (from tensorflow) (3.3.0)\n",
            "Requirement already satisfied: packaging in /usr/local/lib/python3.10/dist-packages (from tensorflow) (23.1)\n",
            "Requirement already satisfied: protobuf!=4.21.0,!=4.21.1,!=4.21.2,!=4.21.3,!=4.21.4,!=4.21.5,<5.0.0dev,>=3.20.3 in /usr/local/lib/python3.10/dist-packages (from tensorflow) (3.20.3)\n",
            "Requirement already satisfied: setuptools in /usr/local/lib/python3.10/dist-packages (from tensorflow) (67.7.2)\n",
            "Requirement already satisfied: six>=1.12.0 in /usr/local/lib/python3.10/dist-packages (from tensorflow) (1.16.0)\n",
            "Requirement already satisfied: tensorboard<2.13,>=2.12 in /usr/local/lib/python3.10/dist-packages (from tensorflow) (2.12.3)\n",
            "Requirement already satisfied: tensorflow-estimator<2.13,>=2.12.0 in /usr/local/lib/python3.10/dist-packages (from tensorflow) (2.12.0)\n",
            "Requirement already satisfied: termcolor>=1.1.0 in /usr/local/lib/python3.10/dist-packages (from tensorflow) (2.3.0)\n",
            "Requirement already satisfied: typing-extensions>=3.6.6 in /usr/local/lib/python3.10/dist-packages (from tensorflow) (4.7.1)\n",
            "Requirement already satisfied: wrapt<1.15,>=1.11.0 in /usr/local/lib/python3.10/dist-packages (from tensorflow) (1.14.1)\n",
            "Requirement already satisfied: tensorflow-io-gcs-filesystem>=0.23.1 in /usr/local/lib/python3.10/dist-packages (from tensorflow) (0.33.0)\n",
            "Requirement already satisfied: contourpy>=1.0.1 in /usr/local/lib/python3.10/dist-packages (from matplotlib) (1.1.0)\n",
            "Requirement already satisfied: cycler>=0.10 in /usr/local/lib/python3.10/dist-packages (from matplotlib) (0.11.0)\n",
            "Requirement already satisfied: fonttools>=4.22.0 in /usr/local/lib/python3.10/dist-packages (from matplotlib) (4.42.1)\n",
            "Requirement already satisfied: kiwisolver>=1.0.1 in /usr/local/lib/python3.10/dist-packages (from matplotlib) (1.4.4)\n",
            "Requirement already satisfied: pillow>=6.2.0 in /usr/local/lib/python3.10/dist-packages (from matplotlib) (9.4.0)\n",
            "Requirement already satisfied: pyparsing>=2.3.1 in /usr/local/lib/python3.10/dist-packages (from matplotlib) (3.1.1)\n",
            "Requirement already satisfied: python-dateutil>=2.7 in /usr/local/lib/python3.10/dist-packages (from matplotlib) (2.8.2)\n",
            "Requirement already satisfied: array-record in /usr/local/lib/python3.10/dist-packages (from tensorflow-datasets) (0.4.1)\n",
            "Requirement already satisfied: click in /usr/local/lib/python3.10/dist-packages (from tensorflow-datasets) (8.1.7)\n",
            "Requirement already satisfied: dm-tree in /usr/local/lib/python3.10/dist-packages (from tensorflow-datasets) (0.1.8)\n",
            "Requirement already satisfied: etils[enp,epath]>=0.9.0 in /usr/local/lib/python3.10/dist-packages (from tensorflow-datasets) (1.4.1)\n",
            "Requirement already satisfied: promise in /usr/local/lib/python3.10/dist-packages (from tensorflow-datasets) (2.3)\n",
            "Requirement already satisfied: psutil in /usr/local/lib/python3.10/dist-packages (from tensorflow-datasets) (5.9.5)\n",
            "Requirement already satisfied: requests>=2.19.0 in /usr/local/lib/python3.10/dist-packages (from tensorflow-datasets) (2.31.0)\n",
            "Requirement already satisfied: tensorflow-metadata in /usr/local/lib/python3.10/dist-packages (from tensorflow-datasets) (1.14.0)\n",
            "Requirement already satisfied: toml in /usr/local/lib/python3.10/dist-packages (from tensorflow-datasets) (0.10.2)\n",
            "Requirement already satisfied: tqdm in /usr/local/lib/python3.10/dist-packages (from tensorflow-datasets) (4.66.1)\n",
            "Requirement already satisfied: ipykernel>=4.5.1 in /usr/local/lib/python3.10/dist-packages (from ipywidgets) (5.5.6)\n",
            "Requirement already satisfied: ipython-genutils~=0.2.0 in /usr/local/lib/python3.10/dist-packages (from ipywidgets) (0.2.0)\n",
            "Requirement already satisfied: traitlets>=4.3.1 in /usr/local/lib/python3.10/dist-packages (from ipywidgets) (5.7.1)\n",
            "Requirement already satisfied: widgetsnbextension~=3.6.0 in /usr/local/lib/python3.10/dist-packages (from ipywidgets) (3.6.5)\n",
            "Requirement already satisfied: ipython>=4.0.0 in /usr/local/lib/python3.10/dist-packages (from ipywidgets) (7.34.0)\n",
            "Requirement already satisfied: jupyterlab-widgets>=1.0.0 in /usr/local/lib/python3.10/dist-packages (from ipywidgets) (3.0.8)\n",
            "Requirement already satisfied: wheel<1.0,>=0.23.0 in /usr/local/lib/python3.10/dist-packages (from astunparse>=1.6.0->tensorflow) (0.41.2)\n",
            "Requirement already satisfied: importlib_resources in /usr/local/lib/python3.10/dist-packages (from etils[enp,epath]>=0.9.0->tensorflow-datasets) (6.0.1)\n",
            "Requirement already satisfied: zipp in /usr/local/lib/python3.10/dist-packages (from etils[enp,epath]>=0.9.0->tensorflow-datasets) (3.16.2)\n",
            "Requirement already satisfied: jupyter-client in /usr/local/lib/python3.10/dist-packages (from ipykernel>=4.5.1->ipywidgets) (6.1.12)\n",
            "Requirement already satisfied: tornado>=4.2 in /usr/local/lib/python3.10/dist-packages (from ipykernel>=4.5.1->ipywidgets) (6.3.2)\n",
            "Collecting jedi>=0.16 (from ipython>=4.0.0->ipywidgets)\n",
            "  Downloading jedi-0.19.0-py2.py3-none-any.whl (1.6 MB)\n",
            "\u001b[2K     \u001b[90m━━━━━━━━━━━━━━━━━━━━━━━━━━━━━━━━━━━━━━━━\u001b[0m \u001b[32m1.6/1.6 MB\u001b[0m \u001b[31m16.7 MB/s\u001b[0m eta \u001b[36m0:00:00\u001b[0m\n",
            "\u001b[?25hRequirement already satisfied: decorator in /usr/local/lib/python3.10/dist-packages (from ipython>=4.0.0->ipywidgets) (4.4.2)\n",
            "Requirement already satisfied: pickleshare in /usr/local/lib/python3.10/dist-packages (from ipython>=4.0.0->ipywidgets) (0.7.5)\n",
            "Requirement already satisfied: prompt-toolkit!=3.0.0,!=3.0.1,<3.1.0,>=2.0.0 in /usr/local/lib/python3.10/dist-packages (from ipython>=4.0.0->ipywidgets) (3.0.39)\n",
            "Requirement already satisfied: pygments in /usr/local/lib/python3.10/dist-packages (from ipython>=4.0.0->ipywidgets) (2.16.1)\n",
            "Requirement already satisfied: backcall in /usr/local/lib/python3.10/dist-packages (from ipython>=4.0.0->ipywidgets) (0.2.0)\n",
            "Requirement already satisfied: matplotlib-inline in /usr/local/lib/python3.10/dist-packages (from ipython>=4.0.0->ipywidgets) (0.1.6)\n",
            "Requirement already satisfied: pexpect>4.3 in /usr/local/lib/python3.10/dist-packages (from ipython>=4.0.0->ipywidgets) (4.8.0)\n",
            "Requirement already satisfied: ml-dtypes>=0.2.0 in /usr/local/lib/python3.10/dist-packages (from jax>=0.3.15->tensorflow) (0.2.0)\n",
            "Requirement already satisfied: scipy>=1.7 in /usr/local/lib/python3.10/dist-packages (from jax>=0.3.15->tensorflow) (1.10.1)\n",
            "Requirement already satisfied: charset-normalizer<4,>=2 in /usr/local/lib/python3.10/dist-packages (from requests>=2.19.0->tensorflow-datasets) (3.2.0)\n",
            "Requirement already satisfied: idna<4,>=2.5 in /usr/local/lib/python3.10/dist-packages (from requests>=2.19.0->tensorflow-datasets) (3.4)\n",
            "Requirement already satisfied: urllib3<3,>=1.21.1 in /usr/local/lib/python3.10/dist-packages (from requests>=2.19.0->tensorflow-datasets) (2.0.4)\n",
            "Requirement already satisfied: certifi>=2017.4.17 in /usr/local/lib/python3.10/dist-packages (from requests>=2.19.0->tensorflow-datasets) (2023.7.22)\n",
            "Requirement already satisfied: google-auth<3,>=1.6.3 in /usr/local/lib/python3.10/dist-packages (from tensorboard<2.13,>=2.12->tensorflow) (2.17.3)\n",
            "Requirement already satisfied: google-auth-oauthlib<1.1,>=0.5 in /usr/local/lib/python3.10/dist-packages (from tensorboard<2.13,>=2.12->tensorflow) (1.0.0)\n",
            "Requirement already satisfied: markdown>=2.6.8 in /usr/local/lib/python3.10/dist-packages (from tensorboard<2.13,>=2.12->tensorflow) (3.4.4)\n",
            "Requirement already satisfied: tensorboard-data-server<0.8.0,>=0.7.0 in /usr/local/lib/python3.10/dist-packages (from tensorboard<2.13,>=2.12->tensorflow) (0.7.1)\n",
            "Requirement already satisfied: werkzeug>=1.0.1 in /usr/local/lib/python3.10/dist-packages (from tensorboard<2.13,>=2.12->tensorflow) (2.3.7)\n",
            "Requirement already satisfied: notebook>=4.4.1 in /usr/local/lib/python3.10/dist-packages (from widgetsnbextension~=3.6.0->ipywidgets) (6.5.5)\n",
            "Requirement already satisfied: googleapis-common-protos<2,>=1.52.0 in /usr/local/lib/python3.10/dist-packages (from tensorflow-metadata->tensorflow-datasets) (1.60.0)\n",
            "Requirement already satisfied: cachetools<6.0,>=2.0.0 in /usr/local/lib/python3.10/dist-packages (from google-auth<3,>=1.6.3->tensorboard<2.13,>=2.12->tensorflow) (5.3.1)\n",
            "Requirement already satisfied: pyasn1-modules>=0.2.1 in /usr/local/lib/python3.10/dist-packages (from google-auth<3,>=1.6.3->tensorboard<2.13,>=2.12->tensorflow) (0.3.0)\n",
            "Requirement already satisfied: rsa<5,>=3.1.4 in /usr/local/lib/python3.10/dist-packages (from google-auth<3,>=1.6.3->tensorboard<2.13,>=2.12->tensorflow) (4.9)\n",
            "Requirement already satisfied: requests-oauthlib>=0.7.0 in /usr/local/lib/python3.10/dist-packages (from google-auth-oauthlib<1.1,>=0.5->tensorboard<2.13,>=2.12->tensorflow) (1.3.1)\n",
            "Requirement already satisfied: parso<0.9.0,>=0.8.3 in /usr/local/lib/python3.10/dist-packages (from jedi>=0.16->ipython>=4.0.0->ipywidgets) (0.8.3)\n",
            "Requirement already satisfied: jinja2 in /usr/local/lib/python3.10/dist-packages (from notebook>=4.4.1->widgetsnbextension~=3.6.0->ipywidgets) (3.1.2)\n",
            "Requirement already satisfied: pyzmq<25,>=17 in /usr/local/lib/python3.10/dist-packages (from notebook>=4.4.1->widgetsnbextension~=3.6.0->ipywidgets) (23.2.1)\n",
            "Requirement already satisfied: argon2-cffi in /usr/local/lib/python3.10/dist-packages (from notebook>=4.4.1->widgetsnbextension~=3.6.0->ipywidgets) (23.1.0)\n",
            "Requirement already satisfied: jupyter-core>=4.6.1 in /usr/local/lib/python3.10/dist-packages (from notebook>=4.4.1->widgetsnbextension~=3.6.0->ipywidgets) (5.3.1)\n",
            "Requirement already satisfied: nbformat in /usr/local/lib/python3.10/dist-packages (from notebook>=4.4.1->widgetsnbextension~=3.6.0->ipywidgets) (5.9.2)\n",
            "Requirement already satisfied: nbconvert>=5 in /usr/local/lib/python3.10/dist-packages (from notebook>=4.4.1->widgetsnbextension~=3.6.0->ipywidgets) (6.5.4)\n",
            "Requirement already satisfied: nest-asyncio>=1.5 in /usr/local/lib/python3.10/dist-packages (from notebook>=4.4.1->widgetsnbextension~=3.6.0->ipywidgets) (1.5.7)\n",
            "Requirement already satisfied: Send2Trash>=1.8.0 in /usr/local/lib/python3.10/dist-packages (from notebook>=4.4.1->widgetsnbextension~=3.6.0->ipywidgets) (1.8.2)\n",
            "Requirement already satisfied: terminado>=0.8.3 in /usr/local/lib/python3.10/dist-packages (from notebook>=4.4.1->widgetsnbextension~=3.6.0->ipywidgets) (0.17.1)\n",
            "Requirement already satisfied: prometheus-client in /usr/local/lib/python3.10/dist-packages (from notebook>=4.4.1->widgetsnbextension~=3.6.0->ipywidgets) (0.17.1)\n",
            "Requirement already satisfied: nbclassic>=0.4.7 in /usr/local/lib/python3.10/dist-packages (from notebook>=4.4.1->widgetsnbextension~=3.6.0->ipywidgets) (1.0.0)\n",
            "Requirement already satisfied: ptyprocess>=0.5 in /usr/local/lib/python3.10/dist-packages (from pexpect>4.3->ipython>=4.0.0->ipywidgets) (0.7.0)\n",
            "Requirement already satisfied: wcwidth in /usr/local/lib/python3.10/dist-packages (from prompt-toolkit!=3.0.0,!=3.0.1,<3.1.0,>=2.0.0->ipython>=4.0.0->ipywidgets) (0.2.6)\n",
            "Requirement already satisfied: MarkupSafe>=2.1.1 in /usr/local/lib/python3.10/dist-packages (from werkzeug>=1.0.1->tensorboard<2.13,>=2.12->tensorflow) (2.1.3)\n",
            "Requirement already satisfied: platformdirs>=2.5 in /usr/local/lib/python3.10/dist-packages (from jupyter-core>=4.6.1->notebook>=4.4.1->widgetsnbextension~=3.6.0->ipywidgets) (3.10.0)\n",
            "Requirement already satisfied: jupyter-server>=1.8 in /usr/local/lib/python3.10/dist-packages (from nbclassic>=0.4.7->notebook>=4.4.1->widgetsnbextension~=3.6.0->ipywidgets) (1.24.0)\n",
            "Requirement already satisfied: notebook-shim>=0.2.3 in /usr/local/lib/python3.10/dist-packages (from nbclassic>=0.4.7->notebook>=4.4.1->widgetsnbextension~=3.6.0->ipywidgets) (0.2.3)\n",
            "Requirement already satisfied: lxml in /usr/local/lib/python3.10/dist-packages (from nbconvert>=5->notebook>=4.4.1->widgetsnbextension~=3.6.0->ipywidgets) (4.9.3)\n",
            "Requirement already satisfied: beautifulsoup4 in /usr/local/lib/python3.10/dist-packages (from nbconvert>=5->notebook>=4.4.1->widgetsnbextension~=3.6.0->ipywidgets) (4.11.2)\n",
            "Requirement already satisfied: bleach in /usr/local/lib/python3.10/dist-packages (from nbconvert>=5->notebook>=4.4.1->widgetsnbextension~=3.6.0->ipywidgets) (6.0.0)\n",
            "Requirement already satisfied: defusedxml in /usr/local/lib/python3.10/dist-packages (from nbconvert>=5->notebook>=4.4.1->widgetsnbextension~=3.6.0->ipywidgets) (0.7.1)\n",
            "Requirement already satisfied: entrypoints>=0.2.2 in /usr/local/lib/python3.10/dist-packages (from nbconvert>=5->notebook>=4.4.1->widgetsnbextension~=3.6.0->ipywidgets) (0.4)\n",
            "Requirement already satisfied: jupyterlab-pygments in /usr/local/lib/python3.10/dist-packages (from nbconvert>=5->notebook>=4.4.1->widgetsnbextension~=3.6.0->ipywidgets) (0.2.2)\n",
            "Requirement already satisfied: mistune<2,>=0.8.1 in /usr/local/lib/python3.10/dist-packages (from nbconvert>=5->notebook>=4.4.1->widgetsnbextension~=3.6.0->ipywidgets) (0.8.4)\n",
            "Requirement already satisfied: nbclient>=0.5.0 in /usr/local/lib/python3.10/dist-packages (from nbconvert>=5->notebook>=4.4.1->widgetsnbextension~=3.6.0->ipywidgets) (0.8.0)\n",
            "Requirement already satisfied: pandocfilters>=1.4.1 in /usr/local/lib/python3.10/dist-packages (from nbconvert>=5->notebook>=4.4.1->widgetsnbextension~=3.6.0->ipywidgets) (1.5.0)\n",
            "Requirement already satisfied: tinycss2 in /usr/local/lib/python3.10/dist-packages (from nbconvert>=5->notebook>=4.4.1->widgetsnbextension~=3.6.0->ipywidgets) (1.2.1)\n",
            "Requirement already satisfied: fastjsonschema in /usr/local/lib/python3.10/dist-packages (from nbformat->notebook>=4.4.1->widgetsnbextension~=3.6.0->ipywidgets) (2.18.0)\n",
            "Requirement already satisfied: jsonschema>=2.6 in /usr/local/lib/python3.10/dist-packages (from nbformat->notebook>=4.4.1->widgetsnbextension~=3.6.0->ipywidgets) (4.19.0)\n",
            "Requirement already satisfied: pyasn1<0.6.0,>=0.4.6 in /usr/local/lib/python3.10/dist-packages (from pyasn1-modules>=0.2.1->google-auth<3,>=1.6.3->tensorboard<2.13,>=2.12->tensorflow) (0.5.0)\n",
            "Requirement already satisfied: oauthlib>=3.0.0 in /usr/local/lib/python3.10/dist-packages (from requests-oauthlib>=0.7.0->google-auth-oauthlib<1.1,>=0.5->tensorboard<2.13,>=2.12->tensorflow) (3.2.2)\n",
            "Requirement already satisfied: argon2-cffi-bindings in /usr/local/lib/python3.10/dist-packages (from argon2-cffi->notebook>=4.4.1->widgetsnbextension~=3.6.0->ipywidgets) (21.2.0)\n",
            "Requirement already satisfied: attrs>=22.2.0 in /usr/local/lib/python3.10/dist-packages (from jsonschema>=2.6->nbformat->notebook>=4.4.1->widgetsnbextension~=3.6.0->ipywidgets) (23.1.0)\n",
            "Requirement already satisfied: jsonschema-specifications>=2023.03.6 in /usr/local/lib/python3.10/dist-packages (from jsonschema>=2.6->nbformat->notebook>=4.4.1->widgetsnbextension~=3.6.0->ipywidgets) (2023.7.1)\n",
            "Requirement already satisfied: referencing>=0.28.4 in /usr/local/lib/python3.10/dist-packages (from jsonschema>=2.6->nbformat->notebook>=4.4.1->widgetsnbextension~=3.6.0->ipywidgets) (0.30.2)\n",
            "Requirement already satisfied: rpds-py>=0.7.1 in /usr/local/lib/python3.10/dist-packages (from jsonschema>=2.6->nbformat->notebook>=4.4.1->widgetsnbextension~=3.6.0->ipywidgets) (0.9.2)\n",
            "Requirement already satisfied: anyio<4,>=3.1.0 in /usr/local/lib/python3.10/dist-packages (from jupyter-server>=1.8->nbclassic>=0.4.7->notebook>=4.4.1->widgetsnbextension~=3.6.0->ipywidgets) (3.7.1)\n",
            "Requirement already satisfied: websocket-client in /usr/local/lib/python3.10/dist-packages (from jupyter-server>=1.8->nbclassic>=0.4.7->notebook>=4.4.1->widgetsnbextension~=3.6.0->ipywidgets) (1.6.2)\n",
            "Requirement already satisfied: cffi>=1.0.1 in /usr/local/lib/python3.10/dist-packages (from argon2-cffi-bindings->argon2-cffi->notebook>=4.4.1->widgetsnbextension~=3.6.0->ipywidgets) (1.15.1)\n",
            "Requirement already satisfied: soupsieve>1.2 in /usr/local/lib/python3.10/dist-packages (from beautifulsoup4->nbconvert>=5->notebook>=4.4.1->widgetsnbextension~=3.6.0->ipywidgets) (2.4.1)\n",
            "Requirement already satisfied: webencodings in /usr/local/lib/python3.10/dist-packages (from bleach->nbconvert>=5->notebook>=4.4.1->widgetsnbextension~=3.6.0->ipywidgets) (0.5.1)\n",
            "Requirement already satisfied: sniffio>=1.1 in /usr/local/lib/python3.10/dist-packages (from anyio<4,>=3.1.0->jupyter-server>=1.8->nbclassic>=0.4.7->notebook>=4.4.1->widgetsnbextension~=3.6.0->ipywidgets) (1.3.0)\n",
            "Requirement already satisfied: exceptiongroup in /usr/local/lib/python3.10/dist-packages (from anyio<4,>=3.1.0->jupyter-server>=1.8->nbclassic>=0.4.7->notebook>=4.4.1->widgetsnbextension~=3.6.0->ipywidgets) (1.1.3)\n",
            "Requirement already satisfied: pycparser in /usr/local/lib/python3.10/dist-packages (from cffi>=1.0.1->argon2-cffi-bindings->argon2-cffi->notebook>=4.4.1->widgetsnbextension~=3.6.0->ipywidgets) (2.21)\n",
            "Installing collected packages: jedi\n",
            "Successfully installed jedi-0.19.0\n"
          ]
        }
      ]
    },
    {
      "cell_type": "code",
      "source": [
        "import tensorflow as tf\n",
        "import tensorflow_datasets as tfds\n",
        "import matplotlib.pyplot as plt"
      ],
      "metadata": {
        "id": "CXIuOOQSIRh3"
      },
      "execution_count": 32,
      "outputs": []
    },
    {
      "cell_type": "code",
      "source": [
        "ds = tfds.load('fashion_mnist', split='train')"
      ],
      "metadata": {
        "id": "O2rOpO1NKEIH"
      },
      "execution_count": 33,
      "outputs": []
    },
    {
      "cell_type": "markdown",
      "source": [
        "## Visualize and build dataset"
      ],
      "metadata": {
        "id": "mu1Cc4XkSxLV"
      }
    },
    {
      "cell_type": "code",
      "source": [
        "import numpy as np"
      ],
      "metadata": {
        "id": "8aoB7J3sKYpz"
      },
      "execution_count": 34,
      "outputs": []
    },
    {
      "cell_type": "code",
      "source": [
        "# setting connection with dataset to get images\n",
        "data_iterator = ds.as_numpy_iterator()"
      ],
      "metadata": {
        "id": "gV2e1QBBS4qA"
      },
      "execution_count": 35,
      "outputs": []
    },
    {
      "cell_type": "code",
      "source": [
        "# getting data out of a pipeline\n",
        "data_iterator.next()"
      ],
      "metadata": {
        "colab": {
          "base_uri": "https://localhost:8080/"
        },
        "id": "NP4Xl6UNTJcR",
        "outputId": "56963750-c841-4805-8728-bba86c127b28"
      },
      "execution_count": 36,
      "outputs": [
        {
          "output_type": "execute_result",
          "data": {
            "text/plain": [
              "{'image': array([[[  0],\n",
              "         [  0],\n",
              "         [  0],\n",
              "         [  0],\n",
              "         [  0],\n",
              "         [  0],\n",
              "         [  0],\n",
              "         [  0],\n",
              "         [  0],\n",
              "         [ 18],\n",
              "         [ 77],\n",
              "         [227],\n",
              "         [227],\n",
              "         [208],\n",
              "         [210],\n",
              "         [225],\n",
              "         [216],\n",
              "         [ 85],\n",
              "         [ 32],\n",
              "         [  0],\n",
              "         [  0],\n",
              "         [  0],\n",
              "         [  0],\n",
              "         [  0],\n",
              "         [  0],\n",
              "         [  0],\n",
              "         [  0],\n",
              "         [  0]],\n",
              " \n",
              "        [[  0],\n",
              "         [  0],\n",
              "         [  0],\n",
              "         [  0],\n",
              "         [  0],\n",
              "         [  0],\n",
              "         [  0],\n",
              "         [ 61],\n",
              "         [100],\n",
              "         [ 97],\n",
              "         [ 80],\n",
              "         [ 57],\n",
              "         [117],\n",
              "         [227],\n",
              "         [238],\n",
              "         [115],\n",
              "         [ 49],\n",
              "         [ 78],\n",
              "         [106],\n",
              "         [108],\n",
              "         [ 71],\n",
              "         [  0],\n",
              "         [  0],\n",
              "         [  0],\n",
              "         [  0],\n",
              "         [  0],\n",
              "         [  0],\n",
              "         [  0]],\n",
              " \n",
              "        [[  0],\n",
              "         [  0],\n",
              "         [  0],\n",
              "         [  0],\n",
              "         [  0],\n",
              "         [  0],\n",
              "         [ 81],\n",
              "         [105],\n",
              "         [ 80],\n",
              "         [ 69],\n",
              "         [ 72],\n",
              "         [ 64],\n",
              "         [ 44],\n",
              "         [ 21],\n",
              "         [ 13],\n",
              "         [ 44],\n",
              "         [ 69],\n",
              "         [ 75],\n",
              "         [ 75],\n",
              "         [ 80],\n",
              "         [114],\n",
              "         [ 80],\n",
              "         [  0],\n",
              "         [  0],\n",
              "         [  0],\n",
              "         [  0],\n",
              "         [  0],\n",
              "         [  0]],\n",
              " \n",
              "        [[  0],\n",
              "         [  0],\n",
              "         [  0],\n",
              "         [  0],\n",
              "         [  0],\n",
              "         [ 26],\n",
              "         [ 92],\n",
              "         [ 69],\n",
              "         [ 68],\n",
              "         [ 75],\n",
              "         [ 75],\n",
              "         [ 71],\n",
              "         [ 74],\n",
              "         [ 83],\n",
              "         [ 75],\n",
              "         [ 77],\n",
              "         [ 78],\n",
              "         [ 74],\n",
              "         [ 74],\n",
              "         [ 83],\n",
              "         [ 77],\n",
              "         [108],\n",
              "         [ 34],\n",
              "         [  0],\n",
              "         [  0],\n",
              "         [  0],\n",
              "         [  0],\n",
              "         [  0]],\n",
              " \n",
              "        [[  0],\n",
              "         [  0],\n",
              "         [  0],\n",
              "         [  0],\n",
              "         [  0],\n",
              "         [ 55],\n",
              "         [ 92],\n",
              "         [ 69],\n",
              "         [ 74],\n",
              "         [ 74],\n",
              "         [ 71],\n",
              "         [ 71],\n",
              "         [ 77],\n",
              "         [ 69],\n",
              "         [ 66],\n",
              "         [ 75],\n",
              "         [ 74],\n",
              "         [ 77],\n",
              "         [ 80],\n",
              "         [ 80],\n",
              "         [ 78],\n",
              "         [ 94],\n",
              "         [ 63],\n",
              "         [  0],\n",
              "         [  0],\n",
              "         [  0],\n",
              "         [  0],\n",
              "         [  0]],\n",
              " \n",
              "        [[  0],\n",
              "         [  0],\n",
              "         [  0],\n",
              "         [  0],\n",
              "         [  0],\n",
              "         [ 63],\n",
              "         [ 95],\n",
              "         [ 66],\n",
              "         [ 68],\n",
              "         [ 72],\n",
              "         [ 72],\n",
              "         [ 69],\n",
              "         [ 72],\n",
              "         [ 74],\n",
              "         [ 74],\n",
              "         [ 74],\n",
              "         [ 75],\n",
              "         [ 75],\n",
              "         [ 77],\n",
              "         [ 80],\n",
              "         [ 77],\n",
              "         [106],\n",
              "         [ 61],\n",
              "         [  0],\n",
              "         [  0],\n",
              "         [  0],\n",
              "         [  0],\n",
              "         [  0]],\n",
              " \n",
              "        [[  0],\n",
              "         [  0],\n",
              "         [  0],\n",
              "         [  0],\n",
              "         [  0],\n",
              "         [ 80],\n",
              "         [108],\n",
              "         [ 71],\n",
              "         [ 69],\n",
              "         [ 72],\n",
              "         [ 71],\n",
              "         [ 69],\n",
              "         [ 72],\n",
              "         [ 75],\n",
              "         [ 75],\n",
              "         [ 72],\n",
              "         [ 72],\n",
              "         [ 75],\n",
              "         [ 78],\n",
              "         [ 72],\n",
              "         [ 85],\n",
              "         [128],\n",
              "         [ 64],\n",
              "         [  0],\n",
              "         [  0],\n",
              "         [  0],\n",
              "         [  0],\n",
              "         [  0]],\n",
              " \n",
              "        [[  0],\n",
              "         [  0],\n",
              "         [  0],\n",
              "         [  0],\n",
              "         [  0],\n",
              "         [ 88],\n",
              "         [120],\n",
              "         [ 75],\n",
              "         [ 74],\n",
              "         [ 77],\n",
              "         [ 75],\n",
              "         [ 72],\n",
              "         [ 77],\n",
              "         [ 74],\n",
              "         [ 74],\n",
              "         [ 77],\n",
              "         [ 78],\n",
              "         [ 83],\n",
              "         [ 83],\n",
              "         [ 66],\n",
              "         [111],\n",
              "         [123],\n",
              "         [ 78],\n",
              "         [  0],\n",
              "         [  0],\n",
              "         [  0],\n",
              "         [  0],\n",
              "         [  0]],\n",
              " \n",
              "        [[  0],\n",
              "         [  0],\n",
              "         [  0],\n",
              "         [  0],\n",
              "         [  0],\n",
              "         [ 85],\n",
              "         [134],\n",
              "         [ 74],\n",
              "         [ 85],\n",
              "         [ 69],\n",
              "         [ 75],\n",
              "         [ 75],\n",
              "         [ 74],\n",
              "         [ 75],\n",
              "         [ 74],\n",
              "         [ 75],\n",
              "         [ 75],\n",
              "         [ 81],\n",
              "         [ 75],\n",
              "         [ 61],\n",
              "         [151],\n",
              "         [115],\n",
              "         [ 91],\n",
              "         [ 12],\n",
              "         [  0],\n",
              "         [  0],\n",
              "         [  0],\n",
              "         [  0]],\n",
              " \n",
              "        [[  0],\n",
              "         [  0],\n",
              "         [  0],\n",
              "         [  0],\n",
              "         [ 10],\n",
              "         [ 85],\n",
              "         [153],\n",
              "         [ 83],\n",
              "         [ 80],\n",
              "         [ 68],\n",
              "         [ 77],\n",
              "         [ 75],\n",
              "         [ 74],\n",
              "         [ 75],\n",
              "         [ 74],\n",
              "         [ 75],\n",
              "         [ 77],\n",
              "         [ 80],\n",
              "         [ 68],\n",
              "         [ 61],\n",
              "         [162],\n",
              "         [122],\n",
              "         [ 78],\n",
              "         [  6],\n",
              "         [  0],\n",
              "         [  0],\n",
              "         [  0],\n",
              "         [  0]],\n",
              " \n",
              "        [[  0],\n",
              "         [  0],\n",
              "         [  0],\n",
              "         [  0],\n",
              "         [ 30],\n",
              "         [ 75],\n",
              "         [154],\n",
              "         [ 85],\n",
              "         [ 80],\n",
              "         [ 71],\n",
              "         [ 80],\n",
              "         [ 72],\n",
              "         [ 77],\n",
              "         [ 75],\n",
              "         [ 75],\n",
              "         [ 77],\n",
              "         [ 78],\n",
              "         [ 77],\n",
              "         [ 75],\n",
              "         [ 49],\n",
              "         [191],\n",
              "         [132],\n",
              "         [ 72],\n",
              "         [ 15],\n",
              "         [  0],\n",
              "         [  0],\n",
              "         [  0],\n",
              "         [  0]],\n",
              " \n",
              "        [[  0],\n",
              "         [  0],\n",
              "         [  0],\n",
              "         [  0],\n",
              "         [ 58],\n",
              "         [ 66],\n",
              "         [174],\n",
              "         [115],\n",
              "         [ 66],\n",
              "         [ 77],\n",
              "         [ 80],\n",
              "         [ 72],\n",
              "         [ 78],\n",
              "         [ 75],\n",
              "         [ 77],\n",
              "         [ 78],\n",
              "         [ 78],\n",
              "         [ 77],\n",
              "         [ 66],\n",
              "         [ 49],\n",
              "         [222],\n",
              "         [131],\n",
              "         [ 77],\n",
              "         [ 37],\n",
              "         [  0],\n",
              "         [  0],\n",
              "         [  0],\n",
              "         [  0]],\n",
              " \n",
              "        [[  0],\n",
              "         [  0],\n",
              "         [  0],\n",
              "         [  0],\n",
              "         [ 69],\n",
              "         [ 55],\n",
              "         [179],\n",
              "         [139],\n",
              "         [ 55],\n",
              "         [ 92],\n",
              "         [ 74],\n",
              "         [ 74],\n",
              "         [ 78],\n",
              "         [ 74],\n",
              "         [ 78],\n",
              "         [ 77],\n",
              "         [ 75],\n",
              "         [ 80],\n",
              "         [ 64],\n",
              "         [ 55],\n",
              "         [242],\n",
              "         [111],\n",
              "         [ 95],\n",
              "         [ 44],\n",
              "         [  0],\n",
              "         [  0],\n",
              "         [  0],\n",
              "         [  0]],\n",
              " \n",
              "        [[  0],\n",
              "         [  0],\n",
              "         [  0],\n",
              "         [  0],\n",
              "         [ 74],\n",
              "         [ 57],\n",
              "         [159],\n",
              "         [180],\n",
              "         [ 55],\n",
              "         [ 92],\n",
              "         [ 64],\n",
              "         [ 72],\n",
              "         [ 74],\n",
              "         [ 74],\n",
              "         [ 77],\n",
              "         [ 75],\n",
              "         [ 77],\n",
              "         [ 78],\n",
              "         [ 55],\n",
              "         [ 66],\n",
              "         [255],\n",
              "         [ 97],\n",
              "         [108],\n",
              "         [ 49],\n",
              "         [  0],\n",
              "         [  0],\n",
              "         [  0],\n",
              "         [  0]],\n",
              " \n",
              "        [[  0],\n",
              "         [  0],\n",
              "         [  0],\n",
              "         [  0],\n",
              "         [ 74],\n",
              "         [ 66],\n",
              "         [145],\n",
              "         [153],\n",
              "         [ 72],\n",
              "         [ 83],\n",
              "         [ 58],\n",
              "         [ 78],\n",
              "         [ 77],\n",
              "         [ 75],\n",
              "         [ 75],\n",
              "         [ 75],\n",
              "         [ 72],\n",
              "         [ 80],\n",
              "         [ 30],\n",
              "         [132],\n",
              "         [255],\n",
              "         [ 37],\n",
              "         [122],\n",
              "         [ 60],\n",
              "         [  0],\n",
              "         [  0],\n",
              "         [  0],\n",
              "         [  0]],\n",
              " \n",
              "        [[  0],\n",
              "         [  0],\n",
              "         [  0],\n",
              "         [  0],\n",
              "         [ 80],\n",
              "         [ 69],\n",
              "         [142],\n",
              "         [180],\n",
              "         [142],\n",
              "         [ 57],\n",
              "         [ 64],\n",
              "         [ 78],\n",
              "         [ 74],\n",
              "         [ 75],\n",
              "         [ 75],\n",
              "         [ 75],\n",
              "         [ 72],\n",
              "         [ 85],\n",
              "         [ 21],\n",
              "         [185],\n",
              "         [227],\n",
              "         [ 37],\n",
              "         [143],\n",
              "         [ 63],\n",
              "         [  0],\n",
              "         [  0],\n",
              "         [  0],\n",
              "         [  0]],\n",
              " \n",
              "        [[  0],\n",
              "         [  0],\n",
              "         [  0],\n",
              "         [  0],\n",
              "         [ 83],\n",
              "         [ 71],\n",
              "         [136],\n",
              "         [194],\n",
              "         [126],\n",
              "         [ 46],\n",
              "         [ 69],\n",
              "         [ 75],\n",
              "         [ 72],\n",
              "         [ 75],\n",
              "         [ 75],\n",
              "         [ 75],\n",
              "         [ 74],\n",
              "         [ 78],\n",
              "         [ 38],\n",
              "         [139],\n",
              "         [185],\n",
              "         [ 60],\n",
              "         [151],\n",
              "         [ 58],\n",
              "         [  0],\n",
              "         [  0],\n",
              "         [  0],\n",
              "         [  0]],\n",
              " \n",
              "        [[  0],\n",
              "         [  0],\n",
              "         [  0],\n",
              "         [  4],\n",
              "         [ 81],\n",
              "         [ 74],\n",
              "         [145],\n",
              "         [177],\n",
              "         [ 78],\n",
              "         [ 49],\n",
              "         [ 74],\n",
              "         [ 77],\n",
              "         [ 75],\n",
              "         [ 75],\n",
              "         [ 75],\n",
              "         [ 75],\n",
              "         [ 74],\n",
              "         [ 72],\n",
              "         [ 63],\n",
              "         [ 80],\n",
              "         [156],\n",
              "         [117],\n",
              "         [153],\n",
              "         [ 55],\n",
              "         [  0],\n",
              "         [  0],\n",
              "         [  0],\n",
              "         [  0]],\n",
              " \n",
              "        [[  0],\n",
              "         [  0],\n",
              "         [  0],\n",
              "         [ 10],\n",
              "         [ 80],\n",
              "         [ 72],\n",
              "         [157],\n",
              "         [163],\n",
              "         [ 61],\n",
              "         [ 55],\n",
              "         [ 75],\n",
              "         [ 77],\n",
              "         [ 75],\n",
              "         [ 77],\n",
              "         [ 75],\n",
              "         [ 75],\n",
              "         [ 75],\n",
              "         [ 77],\n",
              "         [ 71],\n",
              "         [ 60],\n",
              "         [ 98],\n",
              "         [156],\n",
              "         [132],\n",
              "         [ 58],\n",
              "         [  0],\n",
              "         [  0],\n",
              "         [  0],\n",
              "         [  0]],\n",
              " \n",
              "        [[  0],\n",
              "         [  0],\n",
              "         [  0],\n",
              "         [ 13],\n",
              "         [ 77],\n",
              "         [ 74],\n",
              "         [157],\n",
              "         [143],\n",
              "         [ 43],\n",
              "         [ 61],\n",
              "         [ 72],\n",
              "         [ 75],\n",
              "         [ 77],\n",
              "         [ 75],\n",
              "         [ 74],\n",
              "         [ 77],\n",
              "         [ 77],\n",
              "         [ 75],\n",
              "         [ 71],\n",
              "         [ 58],\n",
              "         [ 80],\n",
              "         [157],\n",
              "         [120],\n",
              "         [ 66],\n",
              "         [  0],\n",
              "         [  0],\n",
              "         [  0],\n",
              "         [  0]],\n",
              " \n",
              "        [[  0],\n",
              "         [  0],\n",
              "         [  0],\n",
              "         [ 18],\n",
              "         [ 81],\n",
              "         [ 74],\n",
              "         [156],\n",
              "         [114],\n",
              "         [ 35],\n",
              "         [ 72],\n",
              "         [ 71],\n",
              "         [ 75],\n",
              "         [ 78],\n",
              "         [ 72],\n",
              "         [ 66],\n",
              "         [ 80],\n",
              "         [ 78],\n",
              "         [ 77],\n",
              "         [ 75],\n",
              "         [ 64],\n",
              "         [ 63],\n",
              "         [165],\n",
              "         [119],\n",
              "         [ 68],\n",
              "         [  0],\n",
              "         [  0],\n",
              "         [  0],\n",
              "         [  0]],\n",
              " \n",
              "        [[  0],\n",
              "         [  0],\n",
              "         [  0],\n",
              "         [ 23],\n",
              "         [ 85],\n",
              "         [ 81],\n",
              "         [177],\n",
              "         [ 57],\n",
              "         [ 52],\n",
              "         [ 77],\n",
              "         [ 71],\n",
              "         [ 78],\n",
              "         [ 80],\n",
              "         [ 72],\n",
              "         [ 75],\n",
              "         [ 74],\n",
              "         [ 77],\n",
              "         [ 77],\n",
              "         [ 75],\n",
              "         [ 64],\n",
              "         [ 37],\n",
              "         [173],\n",
              "         [ 95],\n",
              "         [ 72],\n",
              "         [  0],\n",
              "         [  0],\n",
              "         [  0],\n",
              "         [  0]],\n",
              " \n",
              "        [[  0],\n",
              "         [  0],\n",
              "         [  0],\n",
              "         [ 26],\n",
              "         [ 81],\n",
              "         [ 86],\n",
              "         [160],\n",
              "         [ 20],\n",
              "         [ 75],\n",
              "         [ 77],\n",
              "         [ 77],\n",
              "         [ 80],\n",
              "         [ 78],\n",
              "         [ 80],\n",
              "         [ 89],\n",
              "         [ 78],\n",
              "         [ 81],\n",
              "         [ 83],\n",
              "         [ 80],\n",
              "         [ 74],\n",
              "         [ 20],\n",
              "         [177],\n",
              "         [ 77],\n",
              "         [ 74],\n",
              "         [  0],\n",
              "         [  0],\n",
              "         [  0],\n",
              "         [  0]],\n",
              " \n",
              "        [[  0],\n",
              "         [  0],\n",
              "         [  0],\n",
              "         [ 49],\n",
              "         [ 77],\n",
              "         [ 91],\n",
              "         [200],\n",
              "         [  0],\n",
              "         [ 83],\n",
              "         [ 95],\n",
              "         [ 86],\n",
              "         [ 88],\n",
              "         [ 88],\n",
              "         [ 89],\n",
              "         [ 88],\n",
              "         [ 89],\n",
              "         [ 88],\n",
              "         [ 83],\n",
              "         [ 89],\n",
              "         [ 86],\n",
              "         [  0],\n",
              "         [191],\n",
              "         [ 78],\n",
              "         [ 80],\n",
              "         [ 24],\n",
              "         [  0],\n",
              "         [  0],\n",
              "         [  0]],\n",
              " \n",
              "        [[  0],\n",
              "         [  0],\n",
              "         [  0],\n",
              "         [ 54],\n",
              "         [ 71],\n",
              "         [108],\n",
              "         [165],\n",
              "         [  0],\n",
              "         [ 24],\n",
              "         [ 57],\n",
              "         [ 52],\n",
              "         [ 57],\n",
              "         [ 60],\n",
              "         [ 60],\n",
              "         [ 60],\n",
              "         [ 63],\n",
              "         [ 63],\n",
              "         [ 77],\n",
              "         [ 89],\n",
              "         [ 52],\n",
              "         [  0],\n",
              "         [211],\n",
              "         [ 97],\n",
              "         [ 77],\n",
              "         [ 61],\n",
              "         [  0],\n",
              "         [  0],\n",
              "         [  0]],\n",
              " \n",
              "        [[  0],\n",
              "         [  0],\n",
              "         [  0],\n",
              "         [ 68],\n",
              "         [ 91],\n",
              "         [117],\n",
              "         [137],\n",
              "         [  0],\n",
              "         [  0],\n",
              "         [  0],\n",
              "         [  0],\n",
              "         [  0],\n",
              "         [  0],\n",
              "         [  0],\n",
              "         [  0],\n",
              "         [  0],\n",
              "         [  0],\n",
              "         [  0],\n",
              "         [  0],\n",
              "         [  0],\n",
              "         [ 18],\n",
              "         [216],\n",
              "         [ 94],\n",
              "         [ 97],\n",
              "         [ 57],\n",
              "         [  0],\n",
              "         [  0],\n",
              "         [  0]],\n",
              " \n",
              "        [[  0],\n",
              "         [  0],\n",
              "         [  0],\n",
              "         [ 54],\n",
              "         [115],\n",
              "         [105],\n",
              "         [185],\n",
              "         [  0],\n",
              "         [  0],\n",
              "         [  1],\n",
              "         [  0],\n",
              "         [  0],\n",
              "         [  0],\n",
              "         [  0],\n",
              "         [  0],\n",
              "         [  0],\n",
              "         [  0],\n",
              "         [  0],\n",
              "         [  0],\n",
              "         [  0],\n",
              "         [  0],\n",
              "         [153],\n",
              "         [ 78],\n",
              "         [106],\n",
              "         [ 37],\n",
              "         [  0],\n",
              "         [  0],\n",
              "         [  0]],\n",
              " \n",
              "        [[  0],\n",
              "         [  0],\n",
              "         [  0],\n",
              "         [ 18],\n",
              "         [ 61],\n",
              "         [ 41],\n",
              "         [103],\n",
              "         [  0],\n",
              "         [  0],\n",
              "         [  0],\n",
              "         [  0],\n",
              "         [  0],\n",
              "         [  0],\n",
              "         [  0],\n",
              "         [  0],\n",
              "         [  0],\n",
              "         [  0],\n",
              "         [  0],\n",
              "         [  0],\n",
              "         [  0],\n",
              "         [  0],\n",
              "         [106],\n",
              "         [ 47],\n",
              "         [ 69],\n",
              "         [ 23],\n",
              "         [  0],\n",
              "         [  0],\n",
              "         [  0]]], dtype=uint8),\n",
              " 'label': 2}"
            ]
          },
          "metadata": {},
          "execution_count": 36
        }
      ]
    },
    {
      "cell_type": "code",
      "source": [
        "data_iterator.next().keys()"
      ],
      "metadata": {
        "colab": {
          "base_uri": "https://localhost:8080/"
        },
        "id": "Gz5_dYUjTNJc",
        "outputId": "8d254a6f-1ce3-4845-93fd-0fd3a9a869de"
      },
      "execution_count": 37,
      "outputs": [
        {
          "output_type": "execute_result",
          "data": {
            "text/plain": [
              "dict_keys(['image', 'label'])"
            ]
          },
          "metadata": {},
          "execution_count": 37
        }
      ]
    },
    {
      "cell_type": "code",
      "source": [
        "# ploting the data\n",
        "fig, ax = plt.subplots(ncols=4, figsize = (20, 20))    # ax=subplots in the fig\n",
        "# getting 4 images\n",
        "for idx in range(4):\n",
        "  sample = data_iterator.next()   # grab an image and label\n",
        "  ax[idx].imshow(np.squeeze(sample['image']))   # plot the image using subplot\n",
        "  ax[idx].title.set_text(sample['label'])   # appending image label as plot title"
      ],
      "metadata": {
        "colab": {
          "base_uri": "https://localhost:8080/",
          "height": 255
        },
        "id": "Fgz_SJNxNDuU",
        "outputId": "2618ddc6-a4ae-43ec-dbd6-cb4d6315bebe"
      },
      "execution_count": 38,
      "outputs": [
        {
          "output_type": "display_data",
          "data": {
            "text/plain": [
              "<Figure size 2000x2000 with 4 Axes>"
            ],
            "image/png": "[encoded data removed]"
          },
          "metadata": {}
        }
      ]
    },
    {
      "cell_type": "code",
      "source": [
        "ax"
      ],
      "metadata": {
        "colab": {
          "base_uri": "https://localhost:8080/"
        },
        "id": "Y8tccRc5X-Lo",
        "outputId": "156105a7-e6c2-4b68-ecca-9d2bace3ed03"
      },
      "execution_count": 39,
      "outputs": [
        {
          "output_type": "execute_result",
          "data": {
            "text/plain": [
              "array([<Axes: title={'center': '8'}>, <Axes: title={'center': '4'}>,\n",
              "       <Axes: title={'center': '1'}>, <Axes: title={'center': '9'}>],\n",
              "      dtype=object)"
            ]
          },
          "metadata": {},
          "execution_count": 39
        }
      ]
    },
    {
      "cell_type": "markdown",
      "source": [
        "## Rescaling images"
      ],
      "metadata": {
        "id": "YeULfaAVbe9S"
      }
    },
    {
      "cell_type": "code",
      "source": [
        "def scale_images(data):\n",
        "  image = data['image']\n",
        "  return image/255"
      ],
      "metadata": {
        "id": "A9gmX9ruY7k-"
      },
      "execution_count": 40,
      "outputs": []
    },
    {
      "cell_type": "code",
      "source": [
        "ds = tfds.load('fashion_mnist', split='train')  # reload the dataset\n",
        "ds = ds.map(scale_images)  # runnig the dataset through the scale_images processing step\n",
        "ds = ds.cache()            # cache the dataset for that batch\n",
        "ds = ds.shuffle(60000)     # shuffling\n",
        "ds = ds.batch(128)         # batch into 128 images per sample\n",
        "ds = ds.prefetch(64)       # reduces the likelihood of bottlenecking"
      ],
      "metadata": {
        "id": "PgOYspqcbeQI"
      },
      "execution_count": 41,
      "outputs": []
    },
    {
      "cell_type": "code",
      "source": [
        "ds.as_numpy_iterator().next().shape"
      ],
      "metadata": {
        "colab": {
          "base_uri": "https://localhost:8080/"
        },
        "id": "nfpLJy0iiyo_",
        "outputId": "f91cbfb0-8499-4d9c-e90d-9a46d457f27c"
      },
      "execution_count": 42,
      "outputs": [
        {
          "output_type": "execute_result",
          "data": {
            "text/plain": [
              "(128, 28, 28, 1)"
            ]
          },
          "metadata": {},
          "execution_count": 42
        }
      ]
    },
    {
      "cell_type": "markdown",
      "source": [
        "## Building Neural Network"
      ],
      "metadata": {
        "id": "n7Z-OiBLkA1G"
      }
    },
    {
      "cell_type": "code",
      "source": [
        "from tensorflow import keras\n",
        "from keras.models import Sequential\n",
        "from keras.layers import Conv2D, Dense, Flatten, Reshape, LeakyReLU, Dropout, UpSampling2D"
      ],
      "metadata": {
        "id": "oQ0s3uiYi4Lp"
      },
      "execution_count": 43,
      "outputs": []
    },
    {
      "cell_type": "markdown",
      "source": [
        "- Build Generator"
      ],
      "metadata": {
        "id": "ZKlPfCOXUHuS"
      }
    },
    {
      "cell_type": "code",
      "source": [
        "def build_generator():\n",
        "  model = Sequential()\n",
        "\n",
        "  # takes 128 random values and reshape it in to 7x7x128\n",
        "  model.add(Dense(7*7*128, input_dim= 128))\n",
        "  model.add(LeakyReLU(0.2))\n",
        "  model.add(Reshape((7,7,128)))\n",
        "\n",
        "  # Upsampling block 1\n",
        "  model.add(UpSampling2D())\n",
        "  model.add(Conv2D(128, 5, padding = 'same'))\n",
        "  model.add(LeakyReLU(0.2))\n",
        "\n",
        "  # Upsampling block 2\n",
        "  model.add(UpSampling2D())\n",
        "  model.add(Conv2D(128, 5, padding = 'same'))\n",
        "  model.add(LeakyReLU(0.2))\n",
        "\n",
        "  # Convolutional block 1\n",
        "  model.add(Conv2D(128, 4, padding = 'same'))\n",
        "  model.add(LeakyReLU(0.2))\n",
        "\n",
        "  # Convolutional block 2\n",
        "  model.add(Conv2D(128, 4, padding='same'))\n",
        "  model.add(LeakyReLU(0.2))\n",
        "\n",
        "  # Final Conv layer to get to 1 channel\n",
        "  model.add(Conv2D(1, 4, padding='same', activation='sigmoid'))\n",
        "\n",
        "\n",
        "  return model\n"
      ],
      "metadata": {
        "id": "oF5uHZ9pmzaZ"
      },
      "execution_count": 44,
      "outputs": []
    },
    {
      "cell_type": "code",
      "source": [
        "generator = build_generator()"
      ],
      "metadata": {
        "id": "bsGNuLAUDJxt"
      },
      "execution_count": 45,
      "outputs": []
    },
    {
      "cell_type": "code",
      "source": [
        "generator.summary()"
      ],
      "metadata": {
        "colab": {
          "base_uri": "https://localhost:8080/"
        },
        "id": "Cx16lDqID5_A",
        "outputId": "25c3f446-bad7-4549-9648-a6539975eb76"
      },
      "execution_count": 46,
      "outputs": [
        {
          "output_type": "stream",
          "name": "stdout",
          "text": [
            "Model: \"sequential_2\"\n",
            "_________________________________________________________________\n",
            " Layer (type)                Output Shape              Param #   \n",
            "=================================================================\n",
            " dense_2 (Dense)             (None, 6272)              809088    \n",
            "                                                                 \n",
            " leaky_re_lu_9 (LeakyReLU)   (None, 6272)              0         \n",
            "                                                                 \n",
            " reshape_1 (Reshape)         (None, 7, 7, 128)         0         \n",
            "                                                                 \n",
            " up_sampling2d_2 (UpSampling  (None, 14, 14, 128)      0         \n",
            " 2D)                                                             \n",
            "                                                                 \n",
            " conv2d_9 (Conv2D)           (None, 14, 14, 128)       409728    \n",
            "                                                                 \n",
            " leaky_re_lu_10 (LeakyReLU)  (None, 14, 14, 128)       0         \n",
            "                                                                 \n",
            " up_sampling2d_3 (UpSampling  (None, 28, 28, 128)      0         \n",
            " 2D)                                                             \n",
            "                                                                 \n",
            " conv2d_10 (Conv2D)          (None, 28, 28, 128)       409728    \n",
            "                                                                 \n",
            " leaky_re_lu_11 (LeakyReLU)  (None, 28, 28, 128)       0         \n",
            "                                                                 \n",
            " conv2d_11 (Conv2D)          (None, 28, 28, 128)       262272    \n",
            "                                                                 \n",
            " leaky_re_lu_12 (LeakyReLU)  (None, 28, 28, 128)       0         \n",
            "                                                                 \n",
            " conv2d_12 (Conv2D)          (None, 28, 28, 128)       262272    \n",
            "                                                                 \n",
            " leaky_re_lu_13 (LeakyReLU)  (None, 28, 28, 128)       0         \n",
            "                                                                 \n",
            " conv2d_13 (Conv2D)          (None, 28, 28, 1)         2049      \n",
            "                                                                 \n",
            "=================================================================\n",
            "Total params: 2,155,137\n",
            "Trainable params: 2,155,137\n",
            "Non-trainable params: 0\n",
            "_________________________________________________________________\n"
          ]
        }
      ]
    },
    {
      "cell_type": "code",
      "source": [
        "img = generator.predict(np.random.randn(4, 128, 1))"
      ],
      "metadata": {
        "colab": {
          "base_uri": "https://localhost:8080/"
        },
        "id": "BVpGmwh6z7G6",
        "outputId": "99ef1a05-c0d2-4031-f358-a10a0592da25"
      },
      "execution_count": 47,
      "outputs": [
        {
          "output_type": "stream",
          "name": "stdout",
          "text": [
            "1/1 [==============================] - 0s 219ms/step\n"
          ]
        }
      ]
    },
    {
      "cell_type": "code",
      "source": [
        "# testing generator\n",
        "fig, ax = plt.subplots(ncols=4, figsize=(20,20))\n",
        "for idx, img in enumerate(img):\n",
        "  ax[idx].imshow(np.squeeze(img))\n",
        "  ax[idx].title.set_text(idx)"
      ],
      "metadata": {
        "colab": {
          "base_uri": "https://localhost:8080/",
          "height": 255
        },
        "id": "8GKddXXBG2ik",
        "outputId": "6554517d-4320-41ce-9b66-93af9291a4d9"
      },
      "execution_count": 48,
      "outputs": [
        {
          "output_type": "display_data",
          "data": {
            "text/plain": [
              "<Figure size 2000x2000 with 4 Axes>"
            ],
            "image/png": "[encoded data removed]"
          },
          "metadata": {}
        }
      ]
    },
    {
      "cell_type": "markdown",
      "source": [
        "- Build Descriminator"
      ],
      "metadata": {
        "id": "pVjaBtkrURwp"
      }
    },
    {
      "cell_type": "code",
      "source": [
        "def build_discriminator():\n",
        "\n",
        "  model = Sequential()\n",
        "\n",
        "  # First conv block\n",
        "  model.add(Conv2D(32, 5, input_shape= (28, 28, 1)))\n",
        "  model.add(LeakyReLU(0.2))\n",
        "  model.add(Dropout(0.4))\n",
        "\n",
        "  # Second conv block\n",
        "  model.add(Conv2D(64,5))\n",
        "  model.add(LeakyReLU(0.2))\n",
        "  model.add(Dropout(0.4))\n",
        "\n",
        "  # Third conv block\n",
        "  model.add(Conv2D(128,5))\n",
        "  model.add(LeakyReLU(0.2))\n",
        "  model.add(Dropout(0.4))\n",
        "\n",
        "  # Fourth conv block\n",
        "  model.add(Conv2D(128,5))\n",
        "  model.add(LeakyReLU(0.2))\n",
        "  model.add(Dropout(0.4))\n",
        "\n",
        "  # Flatten then pass to dense layer\n",
        "  model.add(Flatten())\n",
        "  model.add(Dropout(0.4))\n",
        "  model.add(Dense(1, activation='sigmoid'))\n",
        "\n",
        "  return model"
      ],
      "metadata": {
        "id": "wOper_TrHvU_"
      },
      "execution_count": 50,
      "outputs": []
    },
    {
      "cell_type": "code",
      "source": [
        "discriminator = build_discriminator()"
      ],
      "metadata": {
        "id": "vxzzJ-BbbVW2"
      },
      "execution_count": 51,
      "outputs": []
    },
    {
      "cell_type": "code",
      "source": [
        "discriminator.summary()"
      ],
      "metadata": {
        "colab": {
          "base_uri": "https://localhost:8080/"
        },
        "id": "K3tdxZgtbWem",
        "outputId": "10d30ab0-73a4-402b-e467-918fa2e4fdf9"
      },
      "execution_count": 52,
      "outputs": [
        {
          "output_type": "stream",
          "name": "stdout",
          "text": [
            "Model: \"sequential_3\"\n",
            "_________________________________________________________________\n",
            " Layer (type)                Output Shape              Param #   \n",
            "=================================================================\n",
            " conv2d_14 (Conv2D)          (None, 24, 24, 32)        832       \n",
            "                                                                 \n",
            " leaky_re_lu_14 (LeakyReLU)  (None, 24, 24, 32)        0         \n",
            "                                                                 \n",
            " dropout_5 (Dropout)         (None, 24, 24, 32)        0         \n",
            "                                                                 \n",
            " conv2d_15 (Conv2D)          (None, 20, 20, 64)        51264     \n",
            "                                                                 \n",
            " leaky_re_lu_15 (LeakyReLU)  (None, 20, 20, 64)        0         \n",
            "                                                                 \n",
            " dropout_6 (Dropout)         (None, 20, 20, 64)        0         \n",
            "                                                                 \n",
            " conv2d_16 (Conv2D)          (None, 16, 16, 128)       204928    \n",
            "                                                                 \n",
            " leaky_re_lu_16 (LeakyReLU)  (None, 16, 16, 128)       0         \n",
            "                                                                 \n",
            " dropout_7 (Dropout)         (None, 16, 16, 128)       0         \n",
            "                                                                 \n",
            " conv2d_17 (Conv2D)          (None, 12, 12, 128)       409728    \n",
            "                                                                 \n",
            " leaky_re_lu_17 (LeakyReLU)  (None, 12, 12, 128)       0         \n",
            "                                                                 \n",
            " dropout_8 (Dropout)         (None, 12, 12, 128)       0         \n",
            "                                                                 \n",
            " flatten_1 (Flatten)         (None, 18432)             0         \n",
            "                                                                 \n",
            " dropout_9 (Dropout)         (None, 18432)             0         \n",
            "                                                                 \n",
            " dense_3 (Dense)             (None, 1)                 18433     \n",
            "                                                                 \n",
            "=================================================================\n",
            "Total params: 685,185\n",
            "Trainable params: 685,185\n",
            "Non-trainable params: 0\n",
            "_________________________________________________________________\n"
          ]
        }
      ]
    },
    {
      "cell_type": "code",
      "source": [
        "images = generator.predict(np.random.randn(4, 128, 1))\n",
        "images.shape"
      ],
      "metadata": {
        "colab": {
          "base_uri": "https://localhost:8080/"
        },
        "id": "gUrjyI2a_QZv",
        "outputId": "27525583-606e-41f6-a019-204d63556d2f"
      },
      "execution_count": 53,
      "outputs": [
        {
          "output_type": "stream",
          "name": "stdout",
          "text": [
            "1/1 [==============================] - 0s 133ms/step\n"
          ]
        },
        {
          "output_type": "execute_result",
          "data": {
            "text/plain": [
              "(4, 28, 28, 1)"
            ]
          },
          "metadata": {},
          "execution_count": 53
        }
      ]
    },
    {
      "cell_type": "code",
      "source": [
        "# checking discriminator\n",
        "discriminator.predict(images)\n"
      ],
      "metadata": {
        "colab": {
          "base_uri": "https://localhost:8080/"
        },
        "id": "ienRLWle_Qt2",
        "outputId": "51505d2d-ce8f-42ef-b02f-15b0b41abada"
      },
      "execution_count": 54,
      "outputs": [
        {
          "output_type": "stream",
          "name": "stdout",
          "text": [
            "1/1 [==============================] - 0s 99ms/step\n"
          ]
        },
        {
          "output_type": "execute_result",
          "data": {
            "text/plain": [
              "array([[0.5011496],\n",
              "       [0.5010667],\n",
              "       [0.5009404],\n",
              "       [0.5010604]], dtype=float32)"
            ]
          },
          "metadata": {},
          "execution_count": 54
        }
      ]
    },
    {
      "cell_type": "markdown",
      "source": [
        "## Constructing Training Loop"
      ],
      "metadata": {
        "id": "5IoEfR0QFbbs"
      }
    },
    {
      "cell_type": "markdown",
      "source": [
        "- Loss and optimizer"
      ],
      "metadata": {
        "id": "KHKBLaA-FlEj"
      }
    },
    {
      "cell_type": "code",
      "source": [
        "# adam optimizer for both (generator and discriminator)\n",
        "from keras.optimizers import Adam\n",
        "\n",
        "# binary cross entropy for both (generator and discriminator)\n",
        "from keras.losses import BinaryCrossentropy"
      ],
      "metadata": {
        "id": "MZAQuePR_Q8J"
      },
      "execution_count": 55,
      "outputs": []
    },
    {
      "cell_type": "code",
      "source": [
        "g_opt = Adam(learning_rate = 0.0001)\n",
        "d_opt = Adam(learning_rate = 0.00001)\n",
        "g_loss = BinaryCrossentropy()\n",
        "d_loss = BinaryCrossentropy()"
      ],
      "metadata": {
        "id": "3kFinOUL_RGh"
      },
      "execution_count": 56,
      "outputs": []
    },
    {
      "cell_type": "markdown",
      "source": [
        "- Build Subclassed Model"
      ],
      "metadata": {
        "id": "66uKL-siKN6t"
      }
    },
    {
      "cell_type": "code",
      "source": [
        "# Importing the base model class to subclass training step\n",
        "from keras.models import Model"
      ],
      "metadata": {
        "id": "IhW70iZo_RJb"
      },
      "execution_count": 57,
      "outputs": []
    },
    {
      "cell_type": "code",
      "source": [
        "class FashionGAN(Model):\n",
        "\n",
        "  def __init__(self, generator, discriminator, *args, **kwargs):\n",
        "\n",
        "    # pass args and kwargs to base class\n",
        "    super().__init__(*args, **kwargs)\n",
        "\n",
        "    # creating attributes for gen and disc\n",
        "    self.generator = generator\n",
        "    self.discriminator = discriminator\n",
        "\n",
        "  def compile(self, g_opt, d_opt, g_loss, d_loss, *args, **kwargs):\n",
        "    # compile with base class\n",
        "    super().compile(*args, **kwargs)\n",
        "\n",
        "    # create attributes for losses and optimizers\n",
        "    self.g_opt = g_opt\n",
        "    self.d_opt = d_opt\n",
        "    self.g_loss = g_loss\n",
        "    self.d_loss  = d_loss\n",
        "\n",
        "  def train_step(self, batch):\n",
        "    # Get the data\n",
        "    real_images = batch\n",
        "    fake_images = self.generator(tf.random.normal((128, 128, 1)), training = False)\n",
        "\n",
        "    # Train the discriminator\n",
        "    with tf.GradientTape() as d_tape:\n",
        "      # pass real and fake images to the discriminator\n",
        "      yhat_real = self.discriminator(real_images, training = True)\n",
        "      yhat_fake = self.discriminator(fake_images, training = True)\n",
        "      yhat_realfake = tf.concat([yhat_real, yhat_fake], axis=0)\n",
        "\n",
        "      # create labels for real and fake images\n",
        "      y_realfake = tf.concat([tf.zeros_like(yhat_real), tf.ones_like(yhat_fake)], axis=0)\n",
        "\n",
        "      # add some noise to the TRUE outputs\n",
        "      noise_real = 0.15*tf.random.uniform(tf.shape(yhat_real))\n",
        "      noise_fake = - 0.15*tf.random.uniform(tf.shape(yhat_fake))\n",
        "      y_realfake += tf.concat([noise_real, noise_fake], axis=0)\n",
        "\n",
        "      # calculating loss\n",
        "      total_d_loss = self.d_loss(y_realfake, yhat_realfake)\n",
        "\n",
        "    # apply backpropagation\n",
        "    dgrad = d_tape.gradient(total_d_loss, self.discriminator.trainable_variables)\n",
        "    self.d_opt.apply_gradients(zip(dgrad, self.discriminator.trainable_variables))\n",
        "\n",
        "    # Train the generator\n",
        "    with tf.GradientTape() as g_tape:\n",
        "      # generate some new images\n",
        "      gen_images = self.generator(tf.random.normal((128,128,1)), training=True)\n",
        "\n",
        "      # create the predicted labels\n",
        "      predicted_labels = self.discriminator(gen_images, training = False)\n",
        "\n",
        "      # calculate loss - trick to train to fake out the discriminator\n",
        "      total_g_loss = self.g_loss(tf.zeros_like(predicted_labels), predicted_labels)\n",
        "\n",
        "    # Apply backpropagation\n",
        "    ggrad = g_tape.gradient(total_g_loss, self.generator.trainable_variables)\n",
        "    self.g_opt.apply_gradients(zip(ggrad, self.generator.trainable_variables))\n",
        "\n",
        "    return {\"g_loss\":total_d_loss, \"d_loss\":total_g_loss}"
      ],
      "metadata": {
        "id": "61ptudO-KpNo"
      },
      "execution_count": 58,
      "outputs": []
    },
    {
      "cell_type": "code",
      "source": [
        "# create instance of subclass model\n",
        "fashgan = FashionGAN(generator, discriminator)"
      ],
      "metadata": {
        "id": "oqy_tyaAV9wF"
      },
      "execution_count": 59,
      "outputs": []
    },
    {
      "cell_type": "code",
      "source": [
        "# Compile the Model\n",
        "fashgan.compile(g_opt, d_opt, g_loss, d_loss)"
      ],
      "metadata": {
        "id": "JpoAWpWuV99X"
      },
      "execution_count": 60,
      "outputs": []
    },
    {
      "cell_type": "markdown",
      "source": [
        "## Build Callback"
      ],
      "metadata": {
        "id": "fhmtfRYBqTyb"
      }
    },
    {
      "cell_type": "code",
      "source": [
        "import os\n",
        "from tensorflow.keras.preprocessing.image import array_to_img"
      ],
      "metadata": {
        "id": "A4IiuUnFV-Hz"
      },
      "execution_count": 61,
      "outputs": []
    },
    {
      "cell_type": "markdown",
      "source": [
        "## Training"
      ],
      "metadata": {
        "id": "Y6JPpv_UuLub"
      }
    },
    {
      "cell_type": "code",
      "source": [
        "hist = fashgan.fit(ds, epochs = 200)"
      ],
      "metadata": {
        "colab": {
          "base_uri": "https://localhost:8080/"
        },
        "id": "dSaALORTqDkH",
        "outputId": "0c70849d-ca10-4e46-b735-b79050c8152e"
      },
      "execution_count": 43,
      "outputs": [
        {
          "output_type": "stream",
          "name": "stdout",
          "text": [
            "Epoch 1/200\n",
            "469/469 [==============================] - 68s 145ms/step - g_loss: 0.2974 - d_loss: 0.1309\n",
            "Epoch 2/200\n",
            "469/469 [==============================] - 70s 150ms/step - g_loss: 0.2904 - d_loss: 0.1298\n",
            "Epoch 3/200\n",
            "469/469 [==============================] - 71s 152ms/step - g_loss: 0.2848 - d_loss: 0.1321\n",
            "Epoch 4/200\n",
            "469/469 [==============================] - 72s 153ms/step - g_loss: 0.2828 - d_loss: 0.1424\n",
            "Epoch 5/200\n",
            "469/469 [==============================] - 71s 152ms/step - g_loss: 0.2813 - d_loss: 0.1550\n",
            "Epoch 6/200\n",
            "469/469 [==============================] - 71s 152ms/step - g_loss: 0.2812 - d_loss: 0.1644\n",
            "Epoch 7/200\n",
            "469/469 [==============================] - 71s 152ms/step - g_loss: 0.3313 - d_loss: 1.0077\n",
            "Epoch 8/200\n",
            "469/469 [==============================] - 71s 152ms/step - g_loss: 0.2912 - d_loss: 0.3255\n",
            "Epoch 9/200\n",
            "469/469 [==============================] - 72s 153ms/step - g_loss: 0.2842 - d_loss: 0.2537\n",
            "Epoch 10/200\n",
            "469/469 [==============================] - 72s 153ms/step - g_loss: 0.2820 - d_loss: 0.2252\n",
            "Epoch 11/200\n",
            "469/469 [==============================] - 72s 153ms/step - g_loss: 0.2814 - d_loss: 0.1971\n",
            "Epoch 12/200\n",
            "469/469 [==============================] - 71s 152ms/step - g_loss: 0.2871 - d_loss: 0.1665\n",
            "Epoch 13/200\n",
            "469/469 [==============================] - 71s 152ms/step - g_loss: 0.2843 - d_loss: 0.1292\n",
            "Epoch 14/200\n",
            "469/469 [==============================] - 72s 153ms/step - g_loss: 0.2837 - d_loss: 0.0885\n",
            "Epoch 15/200\n",
            "469/469 [==============================] - 71s 152ms/step - g_loss: 0.2974 - d_loss: 0.0878\n",
            "Epoch 16/200\n",
            "469/469 [==============================] - 71s 152ms/step - g_loss: 0.6557 - d_loss: 0.4828\n",
            "Epoch 17/200\n",
            "469/469 [==============================] - 72s 152ms/step - g_loss: 0.6677 - d_loss: 0.5983\n",
            "Epoch 18/200\n",
            "469/469 [==============================] - 71s 152ms/step - g_loss: 0.6919 - d_loss: 0.6129\n",
            "Epoch 19/200\n",
            "469/469 [==============================] - 72s 152ms/step - g_loss: 0.6869 - d_loss: 0.6561\n",
            "Epoch 20/200\n",
            "469/469 [==============================] - 72s 153ms/step - g_loss: 0.6738 - d_loss: 0.5927\n",
            "Epoch 21/200\n",
            "469/469 [==============================] - 72s 153ms/step - g_loss: 0.6910 - d_loss: 0.6316\n",
            "Epoch 22/200\n",
            "469/469 [==============================] - 72s 153ms/step - g_loss: 0.6826 - d_loss: 0.6455\n",
            "Epoch 23/200\n",
            "469/469 [==============================] - 72s 153ms/step - g_loss: 0.6823 - d_loss: 0.6184\n",
            "Epoch 24/200\n",
            "469/469 [==============================] - 72s 153ms/step - g_loss: 0.6861 - d_loss: 0.6206\n",
            "Epoch 25/200\n",
            "469/469 [==============================] - 72s 152ms/step - g_loss: 0.6457 - d_loss: 0.6353\n",
            "Epoch 26/200\n",
            "469/469 [==============================] - 71s 152ms/step - g_loss: 0.7064 - d_loss: 0.5745\n",
            "Epoch 27/200\n",
            "469/469 [==============================] - 72s 153ms/step - g_loss: 0.6915 - d_loss: 0.6459\n",
            "Epoch 28/200\n",
            "469/469 [==============================] - 71s 152ms/step - g_loss: 0.6376 - d_loss: 0.6827\n",
            "Epoch 29/200\n",
            "469/469 [==============================] - 71s 152ms/step - g_loss: 0.6641 - d_loss: 0.6225\n",
            "Epoch 30/200\n",
            "469/469 [==============================] - 71s 152ms/step - g_loss: 0.5902 - d_loss: 0.6959\n",
            "Epoch 31/200\n",
            "469/469 [==============================] - 71s 152ms/step - g_loss: 0.6507 - d_loss: 0.5470\n",
            "Epoch 32/200\n",
            "469/469 [==============================] - 72s 153ms/step - g_loss: 0.6844 - d_loss: 0.6268\n",
            "Epoch 33/200\n",
            "469/469 [==============================] - 72s 153ms/step - g_loss: 0.6727 - d_loss: 0.6105\n",
            "Epoch 34/200\n",
            "469/469 [==============================] - 72s 152ms/step - g_loss: 0.6853 - d_loss: 0.6323\n",
            "Epoch 35/200\n",
            "469/469 [==============================] - 71s 152ms/step - g_loss: 0.6872 - d_loss: 0.6385\n",
            "Epoch 36/200\n",
            "469/469 [==============================] - 72s 153ms/step - g_loss: 0.6938 - d_loss: 0.5995\n",
            "Epoch 37/200\n",
            "469/469 [==============================] - 72s 153ms/step - g_loss: 0.7005 - d_loss: 0.6104\n",
            "Epoch 38/200\n",
            "469/469 [==============================] - 71s 152ms/step - g_loss: 0.6900 - d_loss: 0.6501\n",
            "Epoch 39/200\n",
            "469/469 [==============================] - 72s 154ms/step - g_loss: 0.6934 - d_loss: 0.6547\n",
            "Epoch 40/200\n",
            "469/469 [==============================] - 72s 152ms/step - g_loss: 0.6914 - d_loss: 0.6615\n",
            "Epoch 41/200\n",
            "469/469 [==============================] - 71s 152ms/step - g_loss: 0.6598 - d_loss: 0.6980\n",
            "Epoch 42/200\n",
            "469/469 [==============================] - 72s 152ms/step - g_loss: 0.6730 - d_loss: 0.6833\n",
            "Epoch 43/200\n",
            "469/469 [==============================] - 71s 152ms/step - g_loss: 0.6819 - d_loss: 0.6869\n",
            "Epoch 44/200\n",
            "469/469 [==============================] - 72s 154ms/step - g_loss: 0.6941 - d_loss: 0.6371\n",
            "Epoch 45/200\n",
            "469/469 [==============================] - 71s 152ms/step - g_loss: 0.6917 - d_loss: 0.6419\n",
            "Epoch 46/200\n",
            "469/469 [==============================] - 72s 153ms/step - g_loss: 0.7020 - d_loss: 0.6245\n",
            "Epoch 47/200\n",
            "469/469 [==============================] - 72s 154ms/step - g_loss: 0.6311 - d_loss: 0.7432\n",
            "Epoch 48/200\n",
            "469/469 [==============================] - 71s 152ms/step - g_loss: 0.6916 - d_loss: 0.6270\n",
            "Epoch 49/200\n",
            "469/469 [==============================] - 71s 152ms/step - g_loss: 0.6300 - d_loss: 0.6763\n",
            "Epoch 50/200\n",
            "469/469 [==============================] - 72s 153ms/step - g_loss: 0.6863 - d_loss: 0.6528\n",
            "Epoch 51/200\n",
            "469/469 [==============================] - 71s 152ms/step - g_loss: 0.6852 - d_loss: 0.6464\n",
            "Epoch 52/200\n",
            "469/469 [==============================] - 71s 152ms/step - g_loss: 0.7018 - d_loss: 0.6242\n",
            "Epoch 53/200\n",
            "469/469 [==============================] - 72s 154ms/step - g_loss: 0.6906 - d_loss: 0.6566\n",
            "Epoch 54/200\n",
            "469/469 [==============================] - 71s 152ms/step - g_loss: 0.6817 - d_loss: 0.6806\n",
            "Epoch 55/200\n",
            "469/469 [==============================] - 71s 152ms/step - g_loss: 0.6640 - d_loss: 0.7587\n",
            "Epoch 56/200\n",
            "469/469 [==============================] - 71s 152ms/step - g_loss: 0.5205 - d_loss: 0.7724\n",
            "Epoch 57/200\n",
            "469/469 [==============================] - 72s 154ms/step - g_loss: 0.6809 - d_loss: 0.6512\n",
            "Epoch 58/200\n",
            "469/469 [==============================] - 71s 152ms/step - g_loss: 0.6753 - d_loss: 0.6747\n",
            "Epoch 59/200\n",
            "469/469 [==============================] - 71s 152ms/step - g_loss: 0.7037 - d_loss: 0.5894\n",
            "Epoch 60/200\n",
            "469/469 [==============================] - 72s 153ms/step - g_loss: 0.6930 - d_loss: 0.6450\n",
            "Epoch 61/200\n",
            "469/469 [==============================] - 71s 152ms/step - g_loss: 0.6621 - d_loss: 0.6921\n",
            "Epoch 62/200\n",
            "469/469 [==============================] - 71s 152ms/step - g_loss: 0.6999 - d_loss: 0.6154\n",
            "Epoch 63/200\n",
            "469/469 [==============================] - 71s 152ms/step - g_loss: 0.6881 - d_loss: 0.6555\n",
            "Epoch 64/200\n",
            "469/469 [==============================] - 72s 153ms/step - g_loss: 0.6954 - d_loss: 0.6347\n",
            "Epoch 65/200\n",
            "469/469 [==============================] - 72s 153ms/step - g_loss: 0.6863 - d_loss: 0.6674\n",
            "Epoch 66/200\n",
            "469/469 [==============================] - 71s 152ms/step - g_loss: 0.6884 - d_loss: 0.6291\n",
            "Epoch 67/200\n",
            "469/469 [==============================] - 71s 152ms/step - g_loss: 0.6682 - d_loss: 0.6936\n",
            "Epoch 68/200\n",
            "469/469 [==============================] - 71s 152ms/step - g_loss: 0.6929 - d_loss: 0.6337\n",
            "Epoch 69/200\n",
            "469/469 [==============================] - 72s 153ms/step - g_loss: 0.6910 - d_loss: 0.6568\n",
            "Epoch 70/200\n",
            "469/469 [==============================] - 71s 152ms/step - g_loss: 0.5446 - d_loss: 1.3414\n",
            "Epoch 71/200\n",
            "469/469 [==============================] - 71s 152ms/step - g_loss: 0.2732 - d_loss: 2.6621\n",
            "Epoch 72/200\n",
            "469/469 [==============================] - 72s 153ms/step - g_loss: 0.2700 - d_loss: 2.6979\n",
            "Epoch 73/200\n",
            "469/469 [==============================] - 71s 152ms/step - g_loss: 0.2694 - d_loss: 2.7000\n",
            "Epoch 74/200\n",
            "469/469 [==============================] - 71s 152ms/step - g_loss: 0.2682 - d_loss: 2.7004\n",
            "Epoch 75/200\n",
            "469/469 [==============================] - 71s 152ms/step - g_loss: 0.2692 - d_loss: 2.6790\n",
            "Epoch 76/200\n",
            "469/469 [==============================] - 71s 152ms/step - g_loss: 0.2679 - d_loss: 2.6718\n",
            "Epoch 77/200\n",
            "469/469 [==============================] - 72s 153ms/step - g_loss: 0.2684 - d_loss: 2.6581\n",
            "Epoch 78/200\n",
            "469/469 [==============================] - 72s 153ms/step - g_loss: 0.2678 - d_loss: 2.6558\n",
            "Epoch 79/200\n",
            "469/469 [==============================] - 71s 152ms/step - g_loss: 0.2674 - d_loss: 2.6575\n",
            "Epoch 80/200\n",
            "469/469 [==============================] - 71s 152ms/step - g_loss: 0.2676 - d_loss: 2.6557\n",
            "Epoch 81/200\n",
            "469/469 [==============================] - 72s 153ms/step - g_loss: 0.2676 - d_loss: 2.6566\n",
            "Epoch 82/200\n",
            "469/469 [==============================] - 71s 151ms/step - g_loss: 0.2678 - d_loss: 2.6577\n",
            "Epoch 83/200\n",
            "469/469 [==============================] - 71s 152ms/step - g_loss: 0.2673 - d_loss: 2.6602\n",
            "Epoch 84/200\n",
            "469/469 [==============================] - 71s 152ms/step - g_loss: 0.2673 - d_loss: 2.6615\n",
            "Epoch 85/200\n",
            "469/469 [==============================] - 71s 151ms/step - g_loss: 0.2672 - d_loss: 2.6626\n",
            "Epoch 86/200\n",
            "469/469 [==============================] - 71s 152ms/step - g_loss: 0.2675 - d_loss: 2.6704\n",
            "Epoch 87/200\n",
            "469/469 [==============================] - 71s 152ms/step - g_loss: 0.2671 - d_loss: 2.6845\n",
            "Epoch 88/200\n",
            "469/469 [==============================] - 71s 152ms/step - g_loss: 0.2673 - d_loss: 2.6876\n",
            "Epoch 89/200\n",
            "469/469 [==============================] - 71s 151ms/step - g_loss: 0.2672 - d_loss: 2.6906\n",
            "Epoch 90/200\n",
            "469/469 [==============================] - 71s 152ms/step - g_loss: 0.3235 - d_loss: 1.7974\n",
            "Epoch 91/200\n",
            "469/469 [==============================] - 71s 152ms/step - g_loss: 0.2838 - d_loss: 0.8513\n",
            "Epoch 92/200\n",
            "469/469 [==============================] - 71s 152ms/step - g_loss: 0.2802 - d_loss: 0.2757\n",
            "Epoch 93/200\n",
            "469/469 [==============================] - 71s 152ms/step - g_loss: 0.2954 - d_loss: 1.2301\n",
            "Epoch 94/200\n",
            "469/469 [==============================] - 71s 152ms/step - g_loss: 0.2715 - d_loss: 2.2016\n",
            "Epoch 95/200\n",
            "469/469 [==============================] - 71s 152ms/step - g_loss: 0.2762 - d_loss: 2.2049\n",
            "Epoch 96/200\n",
            "469/469 [==============================] - 72s 153ms/step - g_loss: 0.4347 - d_loss: 0.4173\n",
            "Epoch 97/200\n",
            "469/469 [==============================] - 72s 153ms/step - g_loss: 0.5170 - d_loss: 0.7466\n",
            "Epoch 98/200\n",
            "469/469 [==============================] - 72s 153ms/step - g_loss: 0.6846 - d_loss: 0.6050\n",
            "Epoch 99/200\n",
            "469/469 [==============================] - 72s 153ms/step - g_loss: 0.7047 - d_loss: 0.6176\n",
            "Epoch 100/200\n",
            "469/469 [==============================] - 72s 153ms/step - g_loss: 0.6786 - d_loss: 0.6714\n",
            "Epoch 101/200\n",
            "469/469 [==============================] - 72s 154ms/step - g_loss: 0.6760 - d_loss: 0.6313\n",
            "Epoch 102/200\n",
            "469/469 [==============================] - 72s 153ms/step - g_loss: 0.6902 - d_loss: 0.6574\n",
            "Epoch 103/200\n",
            "469/469 [==============================] - 71s 152ms/step - g_loss: 0.6649 - d_loss: 0.7122\n",
            "Epoch 104/200\n",
            "469/469 [==============================] - 72s 153ms/step - g_loss: 0.6790 - d_loss: 0.6794\n",
            "Epoch 105/200\n",
            "469/469 [==============================] - 71s 152ms/step - g_loss: 0.6905 - d_loss: 0.6049\n",
            "Epoch 106/200\n",
            "469/469 [==============================] - 71s 152ms/step - g_loss: 0.6836 - d_loss: 0.6601\n",
            "Epoch 107/200\n",
            "469/469 [==============================] - 72s 153ms/step - g_loss: 0.7002 - d_loss: 0.5988\n",
            "Epoch 108/200\n",
            "469/469 [==============================] - 71s 152ms/step - g_loss: 0.6816 - d_loss: 0.6683\n",
            "Epoch 109/200\n",
            "469/469 [==============================] - 71s 152ms/step - g_loss: 0.6855 - d_loss: 0.6168\n",
            "Epoch 110/200\n",
            "469/469 [==============================] - 72s 153ms/step - g_loss: 0.6687 - d_loss: 0.6803\n",
            "Epoch 111/200\n",
            "469/469 [==============================] - 71s 152ms/step - g_loss: 0.6932 - d_loss: 0.6444\n",
            "Epoch 112/200\n",
            "469/469 [==============================] - 72s 154ms/step - g_loss: 0.6832 - d_loss: 0.6582\n",
            "Epoch 113/200\n",
            "469/469 [==============================] - 71s 152ms/step - g_loss: 0.6809 - d_loss: 0.7055\n",
            "Epoch 114/200\n",
            "469/469 [==============================] - 71s 152ms/step - g_loss: 0.6881 - d_loss: 0.6422\n",
            "Epoch 115/200\n",
            "469/469 [==============================] - 72s 152ms/step - g_loss: 0.6388 - d_loss: 0.7917\n",
            "Epoch 116/200\n",
            "469/469 [==============================] - 71s 152ms/step - g_loss: 0.6689 - d_loss: 0.6667\n",
            "Epoch 117/200\n",
            "469/469 [==============================] - 72s 152ms/step - g_loss: 0.6904 - d_loss: 0.6443\n",
            "Epoch 118/200\n",
            "469/469 [==============================] - 72s 153ms/step - g_loss: 0.6737 - d_loss: 0.6561\n",
            "Epoch 119/200\n",
            "469/469 [==============================] - 72s 153ms/step - g_loss: 0.6903 - d_loss: 0.6858\n",
            "Epoch 120/200\n",
            "469/469 [==============================] - 71s 152ms/step - g_loss: 0.6143 - d_loss: 0.9090\n",
            "Epoch 121/200\n",
            "469/469 [==============================] - 72s 154ms/step - g_loss: 0.6904 - d_loss: 0.6433\n",
            "Epoch 122/200\n",
            "469/469 [==============================] - 72s 153ms/step - g_loss: 0.6840 - d_loss: 0.6424\n",
            "Epoch 123/200\n",
            "469/469 [==============================] - 71s 152ms/step - g_loss: 0.6804 - d_loss: 0.6795\n",
            "Epoch 124/200\n",
            "469/469 [==============================] - 72s 153ms/step - g_loss: 0.6689 - d_loss: 0.7112\n",
            "Epoch 125/200\n",
            "469/469 [==============================] - 72s 153ms/step - g_loss: 0.6903 - d_loss: 0.6173\n",
            "Epoch 126/200\n",
            "469/469 [==============================] - 72s 152ms/step - g_loss: 0.7002 - d_loss: 0.6454\n",
            "Epoch 127/200\n",
            "469/469 [==============================] - 71s 152ms/step - g_loss: 0.6291 - d_loss: 0.8132\n",
            "Epoch 128/200\n",
            "469/469 [==============================] - 72s 153ms/step - g_loss: 0.6203 - d_loss: 0.8104\n",
            "Epoch 129/200\n",
            "469/469 [==============================] - 72s 153ms/step - g_loss: 0.6892 - d_loss: 0.6020\n",
            "Epoch 130/200\n",
            "469/469 [==============================] - 72s 153ms/step - g_loss: 0.6715 - d_loss: 0.6947\n",
            "Epoch 131/200\n",
            "469/469 [==============================] - 72s 154ms/step - g_loss: 0.6959 - d_loss: 0.6899\n",
            "Epoch 132/200\n",
            "469/469 [==============================] - 72s 153ms/step - g_loss: 0.6911 - d_loss: 0.6573\n",
            "Epoch 133/200\n",
            "469/469 [==============================] - 71s 152ms/step - g_loss: 0.6822 - d_loss: 0.6717\n",
            "Epoch 134/200\n",
            "469/469 [==============================] - 72s 153ms/step - g_loss: 0.6981 - d_loss: 0.6349\n",
            "Epoch 135/200\n",
            "469/469 [==============================] - 72s 153ms/step - g_loss: 0.6953 - d_loss: 0.6327\n",
            "Epoch 136/200\n",
            "469/469 [==============================] - 72s 153ms/step - g_loss: 0.6839 - d_loss: 0.6836\n",
            "Epoch 137/200\n",
            "469/469 [==============================] - 71s 152ms/step - g_loss: 0.6871 - d_loss: 0.6580\n",
            "Epoch 138/200\n",
            "469/469 [==============================] - 71s 152ms/step - g_loss: 0.6704 - d_loss: 0.7046\n",
            "Epoch 139/200\n",
            "469/469 [==============================] - 71s 152ms/step - g_loss: 0.6855 - d_loss: 0.6722\n",
            "Epoch 140/200\n",
            "469/469 [==============================] - 72s 154ms/step - g_loss: 0.6795 - d_loss: 0.6986\n",
            "Epoch 141/200\n",
            "469/469 [==============================] - 72s 152ms/step - g_loss: 0.6735 - d_loss: 0.6898\n",
            "Epoch 142/200\n",
            "469/469 [==============================] - 71s 152ms/step - g_loss: 0.6925 - d_loss: 0.6909\n",
            "Epoch 143/200\n",
            "469/469 [==============================] - 72s 153ms/step - g_loss: 0.6843 - d_loss: 0.6632\n",
            "Epoch 144/200\n",
            "469/469 [==============================] - 72s 153ms/step - g_loss: 0.6813 - d_loss: 0.7543\n",
            "Epoch 145/200\n",
            "469/469 [==============================] - 72s 153ms/step - g_loss: 0.6662 - d_loss: 0.6930\n",
            "Epoch 146/200\n",
            "469/469 [==============================] - 72s 152ms/step - g_loss: 0.7015 - d_loss: 0.6485\n",
            "Epoch 147/200\n",
            "469/469 [==============================] - 72s 153ms/step - g_loss: 0.6962 - d_loss: 0.6573\n",
            "Epoch 148/200\n",
            "469/469 [==============================] - 72s 154ms/step - g_loss: 0.6889 - d_loss: 0.6567\n",
            "Epoch 149/200\n",
            "469/469 [==============================] - 71s 152ms/step - g_loss: 0.6965 - d_loss: 0.6743\n",
            "Epoch 150/200\n",
            "469/469 [==============================] - 71s 152ms/step - g_loss: 0.6891 - d_loss: 0.6845\n",
            "Epoch 151/200\n",
            "469/469 [==============================] - 71s 152ms/step - g_loss: 0.6928 - d_loss: 0.6902\n",
            "Epoch 152/200\n",
            "469/469 [==============================] - 72s 152ms/step - g_loss: 0.6647 - d_loss: 0.7695\n",
            "Epoch 153/200\n",
            "469/469 [==============================] - 72s 154ms/step - g_loss: 0.6946 - d_loss: 0.6719\n",
            "Epoch 154/200\n",
            "469/469 [==============================] - 72s 153ms/step - g_loss: 0.6653 - d_loss: 0.7159\n",
            "Epoch 155/200\n",
            "469/469 [==============================] - 72s 153ms/step - g_loss: 0.6981 - d_loss: 0.6476\n",
            "Epoch 156/200\n",
            "469/469 [==============================] - 71s 152ms/step - g_loss: 0.6815 - d_loss: 0.6913\n",
            "Epoch 157/200\n",
            "469/469 [==============================] - 71s 152ms/step - g_loss: 0.6713 - d_loss: 0.7245\n",
            "Epoch 158/200\n",
            "469/469 [==============================] - 72s 152ms/step - g_loss: 0.6491 - d_loss: 0.8116\n",
            "Epoch 159/200\n",
            "469/469 [==============================] - 71s 152ms/step - g_loss: 0.6857 - d_loss: 0.6827\n",
            "Epoch 160/200\n",
            "469/469 [==============================] - 72s 154ms/step - g_loss: 0.6893 - d_loss: 0.6751\n",
            "Epoch 161/200\n",
            "469/469 [==============================] - 72s 153ms/step - g_loss: 0.6842 - d_loss: 0.6649\n",
            "Epoch 162/200\n",
            "469/469 [==============================] - 72s 152ms/step - g_loss: 0.6962 - d_loss: 0.6898\n",
            "Epoch 163/200\n",
            "469/469 [==============================] - 72s 153ms/step - g_loss: 0.6901 - d_loss: 0.7035\n",
            "Epoch 164/200\n",
            "469/469 [==============================] - 72s 154ms/step - g_loss: 0.6851 - d_loss: 0.6716\n",
            "Epoch 165/200\n",
            "469/469 [==============================] - 72s 153ms/step - g_loss: 0.6727 - d_loss: 0.7193\n",
            "Epoch 166/200\n",
            "469/469 [==============================] - 71s 152ms/step - g_loss: 0.6746 - d_loss: 0.7888\n",
            "Epoch 167/200\n",
            "469/469 [==============================] - 72s 153ms/step - g_loss: 0.6965 - d_loss: 0.6512\n",
            "Epoch 168/200\n",
            "469/469 [==============================] - 72s 154ms/step - g_loss: 0.6836 - d_loss: 0.6839\n",
            "Epoch 169/200\n",
            "469/469 [==============================] - 72s 152ms/step - g_loss: 0.6673 - d_loss: 0.7708\n",
            "Epoch 170/200\n",
            "469/469 [==============================] - 71s 152ms/step - g_loss: 0.6891 - d_loss: 0.6721\n",
            "Epoch 171/200\n",
            "469/469 [==============================] - 72s 153ms/step - g_loss: 0.7013 - d_loss: 0.6757\n",
            "Epoch 172/200\n",
            "469/469 [==============================] - 71s 152ms/step - g_loss: 0.5232 - d_loss: 1.1261\n",
            "Epoch 173/200\n",
            "469/469 [==============================] - 72s 153ms/step - g_loss: 0.6881 - d_loss: 0.6776\n",
            "Epoch 174/200\n",
            "469/469 [==============================] - 71s 152ms/step - g_loss: 0.6775 - d_loss: 0.6856\n",
            "Epoch 175/200\n",
            "469/469 [==============================] - 71s 152ms/step - g_loss: 0.6863 - d_loss: 0.6969\n",
            "Epoch 176/200\n",
            "469/469 [==============================] - 72s 153ms/step - g_loss: 0.6724 - d_loss: 0.6904\n",
            "Epoch 177/200\n",
            "469/469 [==============================] - 72s 153ms/step - g_loss: 0.6807 - d_loss: 0.6715\n",
            "Epoch 178/200\n",
            "469/469 [==============================] - 72s 153ms/step - g_loss: 0.7067 - d_loss: 0.6883\n",
            "Epoch 179/200\n",
            "469/469 [==============================] - 71s 152ms/step - g_loss: 0.6660 - d_loss: 0.7613\n",
            "Epoch 180/200\n",
            "469/469 [==============================] - 72s 154ms/step - g_loss: 0.6707 - d_loss: 0.7178\n",
            "Epoch 181/200\n",
            "469/469 [==============================] - 72s 154ms/step - g_loss: 0.6621 - d_loss: 0.7533\n",
            "Epoch 182/200\n",
            "469/469 [==============================] - 71s 152ms/step - g_loss: 0.6628 - d_loss: 0.7668\n",
            "Epoch 183/200\n",
            "469/469 [==============================] - 71s 152ms/step - g_loss: 0.7058 - d_loss: 0.6518\n",
            "Epoch 184/200\n",
            "469/469 [==============================] - 72s 153ms/step - g_loss: 0.6901 - d_loss: 0.6433\n",
            "Epoch 185/200\n",
            "469/469 [==============================] - 72s 154ms/step - g_loss: 0.6880 - d_loss: 0.6920\n",
            "Epoch 186/200\n",
            "469/469 [==============================] - 71s 152ms/step - g_loss: 0.6816 - d_loss: 0.7279\n",
            "Epoch 187/200\n",
            "469/469 [==============================] - 71s 152ms/step - g_loss: 0.6481 - d_loss: 0.7419\n",
            "Epoch 188/200\n",
            "469/469 [==============================] - 72s 153ms/step - g_loss: 0.6949 - d_loss: 0.7184\n",
            "Epoch 189/200\n",
            "469/469 [==============================] - 71s 152ms/step - g_loss: 0.6689 - d_loss: 0.7026\n",
            "Epoch 190/200\n",
            "469/469 [==============================] - 72s 154ms/step - g_loss: 0.6803 - d_loss: 0.6948\n",
            "Epoch 191/200\n",
            "469/469 [==============================] - 71s 152ms/step - g_loss: 0.6747 - d_loss: 0.7252\n",
            "Epoch 192/200\n",
            "469/469 [==============================] - 71s 152ms/step - g_loss: 0.6576 - d_loss: 0.6975\n",
            "Epoch 193/200\n",
            "469/469 [==============================] - 71s 152ms/step - g_loss: 0.6952 - d_loss: 0.6904\n",
            "Epoch 194/200\n",
            "469/469 [==============================] - 71s 152ms/step - g_loss: 0.6582 - d_loss: 0.7416\n",
            "Epoch 195/200\n",
            "469/469 [==============================] - 72s 153ms/step - g_loss: 0.6500 - d_loss: 0.7672\n",
            "Epoch 196/200\n",
            "469/469 [==============================] - 72s 154ms/step - g_loss: 0.6728 - d_loss: 0.7151\n",
            "Epoch 197/200\n",
            "469/469 [==============================] - 72s 154ms/step - g_loss: 0.6401 - d_loss: 0.7833\n",
            "Epoch 198/200\n",
            "469/469 [==============================] - 71s 152ms/step - g_loss: 0.6826 - d_loss: 0.6897\n",
            "Epoch 199/200\n",
            "469/469 [==============================] - 72s 153ms/step - g_loss: 0.6453 - d_loss: 0.7640\n",
            "Epoch 200/200\n",
            "469/469 [==============================] - 72s 154ms/step - g_loss: 0.6643 - d_loss: 0.7367\n"
          ]
        }
      ]
    },
    {
      "cell_type": "markdown",
      "source": [
        "## Model Performance"
      ],
      "metadata": {
        "id": "Cbd-U7uPwpFF"
      }
    },
    {
      "cell_type": "code",
      "source": [
        "plt.suptitle('Loss')\n",
        "plt.plot(hist.history['d_loss'], label='d_loss')\n",
        "plt.plot(hist.history['g_loss'], label='g_loss')\n",
        "plt.legend()\n",
        "plt.show()"
      ],
      "metadata": {
        "colab": {
          "base_uri": "https://localhost:8080/",
          "height": 478
        },
        "id": "uHNJJMyauOb6",
        "outputId": "9fc3a5d2-f78c-4dbb-ed8c-e53d69aee471"
      },
      "execution_count": 44,
      "outputs": [
        {
          "output_type": "display_data",
          "data": {
            "text/plain": [
              "<Figure size 640x480 with 1 Axes>"
            ],
            "image/png": "[encoded data removed]"
          },
          "metadata": {}
        }
      ]
    },
    {
      "cell_type": "markdown",
      "source": [
        "## Testing Generator"
      ],
      "metadata": {
        "id": "ZKBKj2rgxZrg"
      }
    },
    {
      "cell_type": "code",
      "source": [
        "imgs = generator.predict(tf.random.normal((9,128,1)))"
      ],
      "metadata": {
        "colab": {
          "base_uri": "https://localhost:8080/"
        },
        "id": "5jawct33wxnP",
        "outputId": "a73f6f12-483e-4a8b-d6a4-199529e21ced"
      },
      "execution_count": 62,
      "outputs": [
        {
          "output_type": "stream",
          "name": "stdout",
          "text": [
            "1/1 [==============================] - 1s 528ms/step\n"
          ]
        }
      ]
    },
    {
      "cell_type": "markdown",
      "source": [
        "### As the Model is trained for only 200 epochs to save time so the result is very poor. To get better results training for over 2000 or 5000 epochs or even more should be good."
      ],
      "metadata": {
        "id": "RJjIiyhDgKQP"
      }
    },
    {
      "cell_type": "code",
      "source": [
        "fig, ax = plt.subplots(ncols=3, nrows=3, figsize=(5,5))\n",
        "for r in range(3):\n",
        "  for c in range(3):\n",
        "    ax[r][c].imshow(imgs[(r+1)*(c+1)-1])"
      ],
      "metadata": {
        "id": "C2AjNt1nxaik"
      },
      "execution_count": 64,
      "outputs": []
    },
    {
      "cell_type": "markdown",
      "source": [
        "## Saving the Model"
      ],
      "metadata": {
        "id": "PE8wSHiEz-eZ"
      }
    },
    {
      "cell_type": "code",
      "source": [
        "generator.save('generator.h5')\n",
        "discriminator.save('discriminator.h5')"
      ],
      "metadata": {
        "colab": {
          "base_uri": "https://localhost:8080/"
        },
        "id": "4xuLotKA0Be0",
        "outputId": "9e199538-7438-4fe4-f794-00e477a0c7ed"
      },
      "execution_count": 65,
      "outputs": [
        {
          "output_type": "stream",
          "name": "stderr",
          "text": [
            "WARNING:tensorflow:Compiled the loaded model, but the compiled metrics have yet to be built. `model.compile_metrics` will be empty until you train or evaluate the model.\n",
            "WARNING:tensorflow:Compiled the loaded model, but the compiled metrics have yet to be built. `model.compile_metrics` will be empty until you train or evaluate the model.\n"
          ]
        }
      ]
    },
    {
      "cell_type": "markdown",
      "source": [
        "--------------------------------------------"
      ],
      "metadata": {
        "id": "38fIB8wu0M6J"
      }
    },
    {
      "cell_type": "markdown",
      "source": [
        "# Part 2: Generaing images using pretrained model in PyTorch"
      ],
      "metadata": {
        "id": "-PZ8rLiPnZeB"
      }
    },
    {
      "cell_type": "markdown",
      "source": [
        "- Download the pretrained model"
      ],
      "metadata": {
        "id": "aj-ie7YWnn5u"
      }
    },
    {
      "cell_type": "code",
      "source": [
        "import torch\n",
        "\n",
        "use_gpu = True if torch.cuda.is_available() else False\n",
        "\n",
        "model = torch.hub.load('facebookresearch/pytorch_GAN_zoo:hub',\n",
        "                       'DCGAN',\n",
        "                       pretrained=True,\n",
        "                       useGPU=use_gpu)"
      ],
      "metadata": {
        "colab": {
          "base_uri": "https://localhost:8080/"
        },
        "id": "oVzfQP5lg2qw",
        "outputId": "53db399e-befa-4593-d598-5c1d22dd5cf9"
      },
      "execution_count": 74,
      "outputs": [
        {
          "output_type": "stream",
          "name": "stderr",
          "text": [
            "Downloading: \"https://github.com/facebookresearch/pytorch_GAN_zoo/zipball/hub\" to /root/.cache/torch/hub/hub.zip\n",
            "Downloading: \"https://dl.fbaipublicfiles.com/gan_zoo/DCGAN_fashionGen-1d67302.pth\" to /root/.cache/torch/hub/checkpoints/DCGAN_fashionGen-1d67302.pth\n",
            "100%|██████████| 39.7M/39.7M [00:00<00:00, 153MB/s]\n"
          ]
        },
        {
          "output_type": "stream",
          "name": "stdout",
          "text": [
            "Average network found !\n"
          ]
        }
      ]
    },
    {
      "cell_type": "markdown",
      "source": [
        "- Feeding 16 random generated inputs to generate 16 Images"
      ],
      "metadata": {
        "id": "Pv-OHK-ynugn"
      }
    },
    {
      "cell_type": "code",
      "source": [
        "num_images = 16\n",
        "noise, _ = model.buildNoiseData(num_images)\n",
        "\n",
        "print(noise.shape)"
      ],
      "metadata": {
        "colab": {
          "base_uri": "https://localhost:8080/"
        },
        "id": "qOoijMkAg9-o",
        "outputId": "6e6f1585-42cc-4797-8f91-3a6f9370184f"
      },
      "execution_count": 77,
      "outputs": [
        {
          "output_type": "stream",
          "name": "stdout",
          "text": [
            "torch.Size([16, 120])\n"
          ]
        }
      ]
    },
    {
      "cell_type": "markdown",
      "source": [
        "- Generating Images"
      ],
      "metadata": {
        "id": "Bnftkk4ioQh3"
      }
    },
    {
      "cell_type": "code",
      "source": [
        "with torch.no_grad():\n",
        "    generated_images = model.test(noise)"
      ],
      "metadata": {
        "id": "5M69UcXFmOr3"
      },
      "execution_count": 78,
      "outputs": []
    },
    {
      "cell_type": "markdown",
      "source": [
        "- Visualizing Images"
      ],
      "metadata": {
        "id": "uy933_NWoWXW"
      }
    },
    {
      "cell_type": "code",
      "source": [
        "import matplotlib.pyplot as plt\n",
        "from torchvision.utils import make_grid\n",
        "\n",
        "image_grid = make_grid(generated_images, ncol=4, nrow=4) # Make images into a grid\n",
        "image_grid = image_grid.permute(1, 2, 0)        # Move channel to the last\n",
        "image_grid = image_grid.cpu().numpy()           # Convert into Numpy\n",
        "\n",
        "plt.imshow(image_grid)\n",
        "plt.xticks([])\n",
        "plt.yticks([])\n",
        "plt.show()"
      ],
      "metadata": {
        "colab": {
          "base_uri": "https://localhost:8080/",
          "height": 443
        },
        "id": "QpJs9C2xmXFX",
        "outputId": "3fef39f3-b625-4f37-cd50-9f226550b10a"
      },
      "execution_count": 84,
      "outputs": [
        {
          "output_type": "stream",
          "name": "stderr",
          "text": [
            "WARNING:matplotlib.image:Clipping input data to the valid range for imshow with RGB data ([0..1] for floats or [0..255] for integers).\n"
          ]
        },
        {
          "output_type": "display_data",
          "data": {
            "text/plain": [
              "<Figure size 640x480 with 1 Axes>"
            ],
            "image/png": "[encoded data removed]"
          },
          "metadata": {}
        }
      ]
    },
    {
      "cell_type": "markdown",
      "source": [
        "# END"
      ],
      "metadata": {
        "id": "rX-Qm2F5op8i"
      }
    }
  ]
}