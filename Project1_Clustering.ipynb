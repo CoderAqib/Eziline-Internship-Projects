{
 "cells": [
  {
   "cell_type": "markdown",
   "id": "e25e5799-baf8-4916-b6b1-c0a1ecffa172",
   "metadata": {},
   "source": [
    "# Author: Aqib Aziz\n",
    "## Eziline Internship Project"
   ]
  },
  {
   "cell_type": "markdown",
   "id": "1ec40d81-80c7-42dc-a17c-1bb1c06cae31",
   "metadata": {},
   "source": [
    "## Task 1: Clusterize the data and find items of each cluster"
   ]
  },
  {
   "cell_type": "code",
   "execution_count": 74,
   "id": "6625f9df-dcc6-4424-9c84-4a8f1c0a2183",
   "metadata": {},
   "outputs": [],
   "source": [
    "import numpy as np\n",
    "import pandas as pd"
   ]
  },
  {
   "cell_type": "code",
   "execution_count": 75,
   "id": "e9c5cfd6-6fe6-47b5-b477-3a07ade5d1ee",
   "metadata": {},
   "outputs": [],
   "source": [
    "data = pd.read_csv('Mobile Accessories Data per Customer.csv')"
   ]
  },
  {
   "cell_type": "code",
   "execution_count": null,
   "id": "c327f881-aef2-43af-95db-822f852b3aac",
   "metadata": {},
   "outputs": [
    {
     "data": {
      "text/html": [
       "<div>\n",
       "<style scoped>\n",
       "    .dataframe tbody tr th:only-of-type {\n",
       "        vertical-align: middle;\n",
       "    }\n",
       "\n",
       "    .dataframe tbody tr th {\n",
       "        vertical-align: top;\n",
       "    }\n",
       "\n",
       "    .dataframe thead th {\n",
       "        text-align: right;\n",
       "    }\n",
       "</style>\n",
       "<table border=\"1\" class=\"dataframe\">\n",
       "  <thead>\n",
       "    <tr style=\"text-align: right;\">\n",
       "      <th></th>\n",
       "      <th>purchase_id</th>\n",
       "      <th>item</th>\n",
       "    </tr>\n",
       "  </thead>\n",
       "  <tbody>\n",
       "    <tr>\n",
       "      <th>0</th>\n",
       "      <td>1000</td>\n",
       "      <td>customized mobile cover</td>\n",
       "    </tr>\n",
       "    <tr>\n",
       "      <th>1</th>\n",
       "      <td>1000</td>\n",
       "      <td>QT82 Bluetooth Earbuds</td>\n",
       "    </tr>\n",
       "    <tr>\n",
       "      <th>2</th>\n",
       "      <td>1000</td>\n",
       "      <td>Samsung Galaxy Mobile Covers</td>\n",
       "    </tr>\n",
       "    <tr>\n",
       "      <th>3</th>\n",
       "      <td>1000</td>\n",
       "      <td>WIWU X10 Type-C Cable</td>\n",
       "    </tr>\n",
       "    <tr>\n",
       "      <th>4</th>\n",
       "      <td>1001</td>\n",
       "      <td>QT82 Bluetooth Earbuds</td>\n",
       "    </tr>\n",
       "  </tbody>\n",
       "</table>\n",
       "</div>"
      ],
      "text/plain": [
       "   purchase_id                          item\n",
       "0         1000       customized mobile cover\n",
       "1         1000        QT82 Bluetooth Earbuds\n",
       "2         1000  Samsung Galaxy Mobile Covers\n",
       "3         1000         WIWU X10 Type-C Cable\n",
       "4         1001        QT82 Bluetooth Earbuds"
      ]
     },
     "execution_count": 76,
     "metadata": {},
     "output_type": "execute_result"
    }
   ],
   "source": [
    "data.head()"
   ]
  },
  {
   "cell_type": "code",
   "execution_count": 77,
   "id": "28719760-897e-4dea-9ca4-1bbabde5e5d3",
   "metadata": {},
   "outputs": [
    {
     "name": "stdout",
     "output_type": "stream",
     "text": [
      "<class 'pandas.core.frame.DataFrame'>\n",
      "RangeIndex: 7304 entries, 0 to 7303\n",
      "Data columns (total 2 columns):\n",
      " #   Column       Non-Null Count  Dtype \n",
      "---  ------       --------------  ----- \n",
      " 0   purchase_id  7304 non-null   int64 \n",
      " 1   item         7304 non-null   object\n",
      "dtypes: int64(1), object(1)\n",
      "memory usage: 114.2+ KB\n"
     ]
    }
   ],
   "source": [
    "data.info()"
   ]
  },
  {
   "cell_type": "markdown",
   "id": "bf776b27-433e-447b-ad5b-a06ef03e515a",
   "metadata": {},
   "source": [
    "### The data has two columns, purchase_id and item.. There are 7304 rows"
   ]
  },
  {
   "cell_type": "markdown",
   "id": "f1a6d79e-5a17-4b2b-a72a-53d8865734b6",
   "metadata": {},
   "source": [
    "----------------------------"
   ]
  },
  {
   "cell_type": "code",
   "execution_count": 78,
   "id": "7438928c-197f-43f9-bd01-22411ba7ccec",
   "metadata": {},
   "outputs": [],
   "source": [
    "grouping = data.groupby('purchase_id')"
   ]
  },
  {
   "cell_type": "markdown",
   "id": "61a2f995-b583-49ea-854d-297326a6d4fc",
   "metadata": {},
   "source": [
    "### describing the purchasing record"
   ]
  },
  {
   "cell_type": "code",
   "execution_count": 79,
   "id": "29943c5b-320b-4031-bd84-71a8ec01b2e4",
   "metadata": {},
   "outputs": [],
   "source": [
    "output = grouping.describe()"
   ]
  },
  {
   "cell_type": "code",
   "execution_count": 81,
   "id": "ecd95380-7338-4e9b-a447-aeb78bb03e4b",
   "metadata": {},
   "outputs": [
    {
     "data": {
      "text/html": [
       "<div>\n",
       "<style scoped>\n",
       "    .dataframe tbody tr th:only-of-type {\n",
       "        vertical-align: middle;\n",
       "    }\n",
       "\n",
       "    .dataframe tbody tr th {\n",
       "        vertical-align: top;\n",
       "    }\n",
       "\n",
       "    .dataframe thead tr th {\n",
       "        text-align: left;\n",
       "    }\n",
       "\n",
       "    .dataframe thead tr:last-of-type th {\n",
       "        text-align: right;\n",
       "    }\n",
       "</style>\n",
       "<table border=\"1\" class=\"dataframe\">\n",
       "  <thead>\n",
       "    <tr>\n",
       "      <th></th>\n",
       "      <th colspan=\"4\" halign=\"left\">item</th>\n",
       "    </tr>\n",
       "    <tr>\n",
       "      <th></th>\n",
       "      <th>count</th>\n",
       "      <th>unique</th>\n",
       "      <th>top</th>\n",
       "      <th>freq</th>\n",
       "    </tr>\n",
       "    <tr>\n",
       "      <th>purchase_id</th>\n",
       "      <th></th>\n",
       "      <th></th>\n",
       "      <th></th>\n",
       "      <th></th>\n",
       "    </tr>\n",
       "  </thead>\n",
       "  <tbody>\n",
       "    <tr>\n",
       "      <th>1000</th>\n",
       "      <td>4</td>\n",
       "      <td>4</td>\n",
       "      <td>customized mobile cover</td>\n",
       "      <td>1</td>\n",
       "    </tr>\n",
       "    <tr>\n",
       "      <th>1001</th>\n",
       "      <td>3</td>\n",
       "      <td>3</td>\n",
       "      <td>QT82 Bluetooth Earbuds</td>\n",
       "      <td>1</td>\n",
       "    </tr>\n",
       "    <tr>\n",
       "      <th>1002</th>\n",
       "      <td>3</td>\n",
       "      <td>3</td>\n",
       "      <td>RTX Wireless Charger</td>\n",
       "      <td>1</td>\n",
       "    </tr>\n",
       "    <tr>\n",
       "      <th>1003</th>\n",
       "      <td>1</td>\n",
       "      <td>1</td>\n",
       "      <td>QT82 Bluetooth Earbuds</td>\n",
       "      <td>1</td>\n",
       "    </tr>\n",
       "    <tr>\n",
       "      <th>1004</th>\n",
       "      <td>3</td>\n",
       "      <td>3</td>\n",
       "      <td>OPPO Mobile Covers</td>\n",
       "      <td>1</td>\n",
       "    </tr>\n",
       "  </tbody>\n",
       "</table>\n",
       "</div>"
      ],
      "text/plain": [
       "             item                                     \n",
       "            count unique                      top freq\n",
       "purchase_id                                           \n",
       "1000            4      4  customized mobile cover    1\n",
       "1001            3      3   QT82 Bluetooth Earbuds    1\n",
       "1002            3      3     RTX Wireless Charger    1\n",
       "1003            1      1   QT82 Bluetooth Earbuds    1\n",
       "1004            3      3       OPPO Mobile Covers    1"
      ]
     },
     "execution_count": 81,
     "metadata": {},
     "output_type": "execute_result"
    }
   ],
   "source": [
    "output.head()"
   ]
  },
  {
   "cell_type": "markdown",
   "id": "094508cd-53fe-44fb-89aa-b09539fc159a",
   "metadata": {},
   "source": [
    "##### it shows COUNT(number of items purchased), UNIQUE(number of unique items), TOP(top item purchased), FREQ(the count of the top item).      For example, id(1000) has bought 4 items and all are unique, the top item is customized mobile cover and it is purchased once."
   ]
  },
  {
   "cell_type": "markdown",
   "id": "9d746e0a-20ec-46a7-a785-8abfe4a21bde",
   "metadata": {},
   "source": [
    "### Clustering"
   ]
  },
  {
   "cell_type": "code",
   "execution_count": 82,
   "id": "75fc3505-cb21-4c67-8d46-40923e672fbd",
   "metadata": {},
   "outputs": [],
   "source": [
    "from sklearn.cluster import KMeans"
   ]
  },
  {
   "cell_type": "code",
   "execution_count": 83,
   "id": "16db42a5-4f74-4941-8772-60f26304a695",
   "metadata": {},
   "outputs": [],
   "source": [
    "X = data[['purchase_id']]"
   ]
  },
  {
   "cell_type": "code",
   "execution_count": 84,
   "id": "9fdfc426-3653-49fc-8bc5-823d9ea45027",
   "metadata": {},
   "outputs": [],
   "source": [
    "model = KMeans(n_clusters=7)"
   ]
  },
  {
   "cell_type": "code",
   "execution_count": 85,
   "id": "8ad70472-851c-4a3d-b15d-eb806e3ef0f4",
   "metadata": {},
   "outputs": [
    {
     "name": "stderr",
     "output_type": "stream",
     "text": [
      "C:\\Anaconda\\lib\\site-packages\\sklearn\\cluster\\_kmeans.py:870: FutureWarning: The default value of `n_init` will change from 10 to 'auto' in 1.4. Set the value of `n_init` explicitly to suppress the warning\n",
      "  warnings.warn(\n"
     ]
    }
   ],
   "source": [
    "model = model.fit(X)"
   ]
  },
  {
   "cell_type": "code",
   "execution_count": 86,
   "id": "42014dcf-e8e3-42c0-86e9-a05d703c1898",
   "metadata": {},
   "outputs": [],
   "source": [
    "cluster_labels = model.labels_"
   ]
  },
  {
   "cell_type": "code",
   "execution_count": 87,
   "id": "9b7769cc-41fe-42fd-9a94-4293a1f6918d",
   "metadata": {},
   "outputs": [
    {
     "data": {
      "text/plain": [
       "array([3, 3, 3, ..., 4, 4, 4])"
      ]
     },
     "execution_count": 87,
     "metadata": {},
     "output_type": "execute_result"
    }
   ],
   "source": [
    "cluster_labels"
   ]
  },
  {
   "cell_type": "markdown",
   "id": "ba42feae-d8bf-4dc5-a31c-651e0274a921",
   "metadata": {},
   "source": [
    "### Visualizing the clusters"
   ]
  },
  {
   "cell_type": "code",
   "execution_count": 88,
   "id": "60d4bb98-a603-44b8-abd7-0cccc3f75d67",
   "metadata": {},
   "outputs": [],
   "source": [
    "import matplotlib.pyplot as plt"
   ]
  },
  {
   "cell_type": "code",
   "execution_count": 89,
   "id": "0dae03df-01ae-4064-bc96-39e7820578d4",
   "metadata": {},
   "outputs": [
    {
     "data": {
      "text/plain": [
       "<matplotlib.collections.PathCollection at 0x1d28dd386d0>"
      ]
     },
     "execution_count": 89,
     "metadata": {},
     "output_type": "execute_result"
    },
    {
     "data": {
      "image/png": "[encoded data removed]",
      "text/plain": [
       "<Figure size 640x480 with 1 Axes>"
      ]
     },
     "metadata": {},
     "output_type": "display_data"
    }
   ],
   "source": [
    "plt.scatter(X, cluster_labels)"
   ]
  },
  {
   "cell_type": "markdown",
   "id": "8d5a5a6a-3cdd-46b8-ad7c-86438c057f3f",
   "metadata": {},
   "source": [
    "### Saving output to csv"
   ]
  },
  {
   "cell_type": "code",
   "execution_count": 90,
   "id": "2690f430-742c-4dab-a675-807c8c1b4bff",
   "metadata": {},
   "outputs": [],
   "source": [
    "data['cluster_no'] = cluster_labels"
   ]
  },
  {
   "cell_type": "code",
   "execution_count": 91,
   "id": "46570b37-0839-4d85-a792-33b0a57dea0c",
   "metadata": {},
   "outputs": [
    {
     "data": {
      "text/html": [
       "<div>\n",
       "<style scoped>\n",
       "    .dataframe tbody tr th:only-of-type {\n",
       "        vertical-align: middle;\n",
       "    }\n",
       "\n",
       "    .dataframe tbody tr th {\n",
       "        vertical-align: top;\n",
       "    }\n",
       "\n",
       "    .dataframe thead th {\n",
       "        text-align: right;\n",
       "    }\n",
       "</style>\n",
       "<table border=\"1\" class=\"dataframe\">\n",
       "  <thead>\n",
       "    <tr style=\"text-align: right;\">\n",
       "      <th></th>\n",
       "      <th>purchase_id</th>\n",
       "      <th>item</th>\n",
       "      <th>cluster_no</th>\n",
       "    </tr>\n",
       "  </thead>\n",
       "  <tbody>\n",
       "    <tr>\n",
       "      <th>0</th>\n",
       "      <td>1000</td>\n",
       "      <td>customized mobile cover</td>\n",
       "      <td>3</td>\n",
       "    </tr>\n",
       "    <tr>\n",
       "      <th>1</th>\n",
       "      <td>1000</td>\n",
       "      <td>QT82 Bluetooth Earbuds</td>\n",
       "      <td>3</td>\n",
       "    </tr>\n",
       "    <tr>\n",
       "      <th>2</th>\n",
       "      <td>1000</td>\n",
       "      <td>Samsung Galaxy Mobile Covers</td>\n",
       "      <td>3</td>\n",
       "    </tr>\n",
       "    <tr>\n",
       "      <th>3</th>\n",
       "      <td>1000</td>\n",
       "      <td>WIWU X10 Type-C Cable</td>\n",
       "      <td>3</td>\n",
       "    </tr>\n",
       "    <tr>\n",
       "      <th>4</th>\n",
       "      <td>1001</td>\n",
       "      <td>QT82 Bluetooth Earbuds</td>\n",
       "      <td>3</td>\n",
       "    </tr>\n",
       "    <tr>\n",
       "      <th>...</th>\n",
       "      <td>...</td>\n",
       "      <td>...</td>\n",
       "      <td>...</td>\n",
       "    </tr>\n",
       "    <tr>\n",
       "      <th>7299</th>\n",
       "      <td>4997</td>\n",
       "      <td>Samsung Galaxy Mobile Covers</td>\n",
       "      <td>4</td>\n",
       "    </tr>\n",
       "    <tr>\n",
       "      <th>7300</th>\n",
       "      <td>4999</td>\n",
       "      <td>OPPO Mobile Covers</td>\n",
       "      <td>4</td>\n",
       "    </tr>\n",
       "    <tr>\n",
       "      <th>7301</th>\n",
       "      <td>4999</td>\n",
       "      <td>WIWU X10 Type-C Cable</td>\n",
       "      <td>4</td>\n",
       "    </tr>\n",
       "    <tr>\n",
       "      <th>7302</th>\n",
       "      <td>5000</td>\n",
       "      <td>customized mobile cover</td>\n",
       "      <td>4</td>\n",
       "    </tr>\n",
       "    <tr>\n",
       "      <th>7303</th>\n",
       "      <td>5000</td>\n",
       "      <td>OPPO Mobile Covers</td>\n",
       "      <td>4</td>\n",
       "    </tr>\n",
       "  </tbody>\n",
       "</table>\n",
       "<p>7304 rows × 3 columns</p>\n",
       "</div>"
      ],
      "text/plain": [
       "      purchase_id                          item  cluster_no\n",
       "0            1000       customized mobile cover           3\n",
       "1            1000        QT82 Bluetooth Earbuds           3\n",
       "2            1000  Samsung Galaxy Mobile Covers           3\n",
       "3            1000         WIWU X10 Type-C Cable           3\n",
       "4            1001        QT82 Bluetooth Earbuds           3\n",
       "...           ...                           ...         ...\n",
       "7299         4997  Samsung Galaxy Mobile Covers           4\n",
       "7300         4999            OPPO Mobile Covers           4\n",
       "7301         4999         WIWU X10 Type-C Cable           4\n",
       "7302         5000       customized mobile cover           4\n",
       "7303         5000            OPPO Mobile Covers           4\n",
       "\n",
       "[7304 rows x 3 columns]"
      ]
     },
     "execution_count": 91,
     "metadata": {},
     "output_type": "execute_result"
    }
   ],
   "source": [
    "data"
   ]
  },
  {
   "cell_type": "code",
   "execution_count": 93,
   "id": "342829b7-30ab-48e2-91e4-b691cd5f800e",
   "metadata": {},
   "outputs": [],
   "source": [
    "data.to_csv('task1_output.csv')"
   ]
  },
  {
   "cell_type": "markdown",
   "id": "e589859e-e35a-4f35-ac7a-9345ddf12c32",
   "metadata": {},
   "source": [
    "--------------------------------"
   ]
  },
  {
   "cell_type": "code",
   "execution_count": null,
   "id": "15432242-42bf-4d48-bcc1-1854b4dcd2e4",
   "metadata": {},
   "outputs": [],
   "source": []
  }
 ],
 "metadata": {
  "kernelspec": {
   "display_name": "Python 3",
   "language": "python",
   "name": "python3"
  },
  "language_info": {
   "codemirror_mode": {
    "name": "ipython",
    "version": 3
   },
   "file_extension": ".py",
   "mimetype": "text/x-python",
   "name": "python",
   "nbconvert_exporter": "python",
   "pygments_lexer": "ipython3",
   "version": "3.10.9"
  }
 },
 "nbformat": 4,
 "nbformat_minor": 5
}
